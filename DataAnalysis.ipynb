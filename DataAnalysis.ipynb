{
 "cells": [
  {
   "cell_type": "code",
   "execution_count": 1,
   "metadata": {},
   "outputs": [],
   "source": [
    "def warn(*args, **kwargs):\n",
    "    pass\n",
    "import warnings\n",
    "warnings.warn = warn"
   ]
  },
  {
   "cell_type": "code",
   "execution_count": 2,
   "metadata": {},
   "outputs": [],
   "source": [
    "import pandas as pd\n",
    "import numpy as np\n",
    "import imp\n",
    "import matplotlib.pyplot as plt\n",
    "import xgboost\n",
    "from sklearn.compose import ColumnTransformer, make_column_transformer\n",
    "from sklearn.preprocessing import StandardScaler\n",
    "from sklearn.preprocessing import OneHotEncoder\n",
    "from sklearn.pipeline import Pipeline\n",
    "from sklearn.feature_selection import *\n",
    "from sklearn.ensemble import RandomForestClassifier\n",
    "from sklearn.model_selection import RandomizedSearchCV\n",
    "from sklearn.model_selection import GridSearchCV\n",
    "from sklearn.linear_model import LogisticRegression\n",
    "from sklearn.metrics import accuracy_score, f1_score\n",
    "from sklearn.cluster import KMeans\n",
    "from yellowbrick.cluster import KElbowVisualizer\n",
    "from sklearn.decomposition import PCA\n",
    "from sklearn.preprocessing import PolynomialFeatures\n",
    "from sklearn.svm import SVC\n",
    "import seaborn as sns\n",
    "import scipy.stats as stats\n",
    "%matplotlib inline\n",
    "from HelperClass.DataProcessing import *"
   ]
  },
  {
   "cell_type": "code",
   "execution_count": 3,
   "metadata": {},
   "outputs": [],
   "source": [
    "trainDataFile = 'Data/train.csv'\n",
    "testDataFile = 'Data/test.csv'\n",
    "dataTypes = {\n",
    "    'PassengerId' : 'int64',\n",
    "    'Survived' : 'int64',\n",
    "    'Pclass' : 'int64',\n",
    "    'Name' : 'object',\n",
    "    'Sex' : 'object',\n",
    "    'Age' : 'float64',\n",
    "    'SibSp' : 'int64',\n",
    "    'Parch' : 'int64',\n",
    "    'Ticket' : 'object',\n",
    "    'Fare' : 'float64',\n",
    "    'Cabin' : 'object',\n",
    "    'Embarked' : 'object'\n",
    "}\n",
    "sep = ','\n",
    "target = 'Survived'\n",
    "clusterIdCol = 'PassagerClusterId'\n",
    "SibSpPlusParchCol = 'SibSp_Plus_Parch'\n",
    "randomSeed = 83213\n",
    "testRatio = 0.20\n",
    "numCores = 7"
   ]
  },
  {
   "cell_type": "markdown",
   "metadata": {},
   "source": [
    "## 1. Reading data"
   ]
  },
  {
   "cell_type": "code",
   "execution_count": 4,
   "metadata": {},
   "outputs": [],
   "source": [
    "dataProc = DataProcessing(trainDataFile, dataTypes, sep)\n",
    "dataProc.ReadFile()\n",
    "### Here we remove nulls since there were only 2 records that has null in the field\n",
    "dataProc.AllData = dataProc.AllData[~dataProc.AllData.Embarked.isnull()]\n",
    "dataProc.AllData = dataProc.AllData[dataProc.AllData.Fare > 0]\n",
    "\n",
    "submitDataProc = DataProcessing(testDataFile, dataTypes, sep)\n",
    "submitDataProc.ReadFile()"
   ]
  },
  {
   "cell_type": "markdown",
   "metadata": {},
   "source": [
    "Findings\n",
    "1. Age makes difference, F_onewayResult(statistic=4.271194933815904, pvalue=0.03912465401348333)\n",
    "2. Fare makes difference, F_onewayResult(statistic=63.03076422804448, pvalue=6.120189341921873e-15)\n",
    "3. PassengerId doesn't make difference, F_onewayResult(statistic=0.022284812266068058, pvalue=0.8813657768798144)\n",
    "4. Pclass makes difference, F_onewayResult(statistic=115.03127218827665, pvalue=2.5370473879805644e-25)\n",
    "5. SibSp doesn't make difference, F_onewayResult(statistic=1.110572204113227, pvalue=0.29224392869817906)\n",
    "6. Parch makes difference, F_onewayResult(statistic=5.963463836603541, pvalue=0.0147992453747224)"
   ]
  },
  {
   "cell_type": "markdown",
   "metadata": {},
   "source": [
    "### 1.1 Look at each numeric feature and their distribution"
   ]
  },
  {
   "cell_type": "code",
   "execution_count": 5,
   "metadata": {},
   "outputs": [],
   "source": [
    "def AnalyzeNumericFeature(data, colName):\n",
    "    notNullData = data[~data[colName].isnull()]\n",
    "    sns.distplot(notNullData[colName]).set_title(colName)\n",
    "    plt.show()\n",
    "    survived = notNullData[notNullData.Survived == 1][colName]\n",
    "    non_survived = notNullData[notNullData.Survived == 0][colName]\n",
    "    print(stats.f_oneway(survived, non_survived))"
   ]
  },
  {
   "cell_type": "code",
   "execution_count": 6,
   "metadata": {},
   "outputs": [],
   "source": [
    "def FeatureBoxplot(data, colName):\n",
    "    sns.catplot(y=colName, hue=target, kind='count', data=data)\n",
    "    plt.show()"
   ]
  },
  {
   "cell_type": "code",
   "execution_count": 7,
   "metadata": {},
   "outputs": [
    {
     "data": {
      "image/png": "[encoded data removed]",
      "text/plain": [
       "<Figure size 404.5x360 with 1 Axes>"
      ]
     },
     "metadata": {
      "needs_background": "light"
     },
     "output_type": "display_data"
    }
   ],
   "source": [
    "FeatureBoxplot(dataProc.AllData, 'SibSp')"
   ]
  },
  {
   "cell_type": "code",
   "execution_count": 8,
   "metadata": {},
   "outputs": [
    {
     "data": {
      "image/png": "[encoded data removed]",
      "text/plain": [
       "<Figure size 404.5x360 with 1 Axes>"
      ]
     },
     "metadata": {
      "needs_background": "light"
     },
     "output_type": "display_data"
    }
   ],
   "source": [
    "FeatureBoxplot(dataProc.AllData, 'Parch')"
   ]
  },
  {
   "cell_type": "code",
   "execution_count": 9,
   "metadata": {},
   "outputs": [],
   "source": [
    "##################################################################################################################\n",
    "##  Create a feature that add two together to see if it's similar pattern to reduce feature columns\n",
    "##################################################################################################################\n",
    "dataProc.AllData[SibSpPlusParchCol] = (dataProc.AllData['SibSp'] + dataProc.AllData['Parch']).astype(str)\n",
    "submitDataProc.AllData[SibSpPlusParchCol] = (submitDataProc.AllData['SibSp'] + \n",
    "                                             submitDataProc.AllData['Parch']).astype(str)"
   ]
  },
  {
   "cell_type": "code",
   "execution_count": 10,
   "metadata": {},
   "outputs": [
    {
     "data": {
      "text/plain": [
       "SibSp_Plus_Parch\n",
       "10    0.000000\n",
       "7     0.000000\n",
       "5     0.136364\n",
       "4     0.200000\n",
       "0     0.307692\n",
       "6     0.333333\n",
       "1     0.552795\n",
       "2     0.578431\n",
       "3     0.724138\n",
       "Name: Survived, dtype: float64"
      ]
     },
     "execution_count": 10,
     "metadata": {},
     "output_type": "execute_result"
    }
   ],
   "source": [
    "dataProc.AllData.groupby([SibSpPlusParchCol])[target].mean().sort_values()"
   ]
  },
  {
   "cell_type": "code",
   "execution_count": 11,
   "metadata": {},
   "outputs": [
    {
     "data": {
      "image/png": "[encoded data removed]",
      "text/plain": [
       "<Figure size 404.5x360 with 1 Axes>"
      ]
     },
     "metadata": {
      "needs_background": "light"
     },
     "output_type": "display_data"
    }
   ],
   "source": [
    "FeatureBoxplot(dataProc.AllData, SibSpPlusParchCol)"
   ]
  },
  {
   "cell_type": "code",
   "execution_count": 12,
   "metadata": {},
   "outputs": [],
   "source": [
    "## Encoding them into similar survival ratio groups \n",
    "SibSpPlusParchMapping = {\n",
    "    SibSpPlusParchCol : {\n",
    "        '10' : 1,\n",
    "        '7' : 1,\n",
    "        '5' : 2,\n",
    "        '4' : 2,\n",
    "        '0' : 3,\n",
    "        '6' : 3,\n",
    "        '1' : 4,\n",
    "        '2' : 4,\n",
    "        '3' : 5\n",
    "    }\n",
    "}"
   ]
  },
  {
   "cell_type": "code",
   "execution_count": 13,
   "metadata": {},
   "outputs": [],
   "source": [
    "dataProc.AllData.replace(SibSpPlusParchMapping, inplace = True)\n",
    "submitDataProc.AllData.replace(SibSpPlusParchMapping, inplace = True)"
   ]
  },
  {
   "cell_type": "code",
   "execution_count": 14,
   "metadata": {
    "scrolled": true
   },
   "outputs": [
    {
     "data": {
      "image/png": "[encoded data removed]",
      "text/plain": [
       "<Figure size 404.5x360 with 1 Axes>"
      ]
     },
     "metadata": {
      "needs_background": "light"
     },
     "output_type": "display_data"
    }
   ],
   "source": [
    "FeatureBoxplot(dataProc.AllData, 'Pclass')"
   ]
  },
  {
   "cell_type": "code",
   "execution_count": 15,
   "metadata": {},
   "outputs": [
    {
     "data": {
      "image/png": "[encoded data removed]",
      "text/plain": [
       "<Figure size 432x288 with 1 Axes>"
      ]
     },
     "metadata": {
      "needs_background": "light"
     },
     "output_type": "display_data"
    },
    {
     "name": "stdout",
     "output_type": "stream",
     "text": [
      "F_onewayResult(statistic=4.410027771674669, pvalue=0.036084033767987425)\n"
     ]
    }
   ],
   "source": [
    "AnalyzeNumericFeature(dataProc.AllData, 'Age')"
   ]
  },
  {
   "cell_type": "code",
   "execution_count": 16,
   "metadata": {},
   "outputs": [
    {
     "data": {
      "image/png": "[encoded data removed]",
      "text/plain": [
       "<Figure size 432x288 with 1 Axes>"
      ]
     },
     "metadata": {
      "needs_background": "light"
     },
     "output_type": "display_data"
    },
    {
     "name": "stdout",
     "output_type": "stream",
     "text": [
      "F_onewayResult(statistic=58.354926038452234, pvalue=5.755477902221322e-14)\n"
     ]
    }
   ],
   "source": [
    "AnalyzeNumericFeature(dataProc.AllData, 'Fare')"
   ]
  },
  {
   "cell_type": "code",
   "execution_count": 17,
   "metadata": {},
   "outputs": [
    {
     "data": {
      "image/png": "[encoded data removed]",
      "text/plain": [
       "<Figure size 432x288 with 1 Axes>"
      ]
     },
     "metadata": {
      "needs_background": "light"
     },
     "output_type": "display_data"
    },
    {
     "name": "stdout",
     "output_type": "stream",
     "text": [
      "F_onewayResult(statistic=101.21860858322084, pvalue=1.3313831854772286e-22)\n"
     ]
    }
   ],
   "source": [
    "### There seems to have some extreme values, take the log \n",
    "dataProc.AllData['LogFare'] = np.log(dataProc.AllData['Fare'] + 0.001)\n",
    "AnalyzeNumericFeature(dataProc.AllData, 'LogFare')"
   ]
  },
  {
   "cell_type": "code",
   "execution_count": 18,
   "metadata": {},
   "outputs": [],
   "source": [
    "### Not include age group here, due to many na values, engineer some other features to offset it\n",
    "featureColumns = ['SibSp_Plus_Parch', 'Pclass', 'LogFare']  "
   ]
  },
  {
   "cell_type": "markdown",
   "metadata": {},
   "source": [
    "### 1.2 Look at each categorical feature and their distribution"
   ]
  },
  {
   "cell_type": "code",
   "execution_count": 19,
   "metadata": {},
   "outputs": [
    {
     "data": {
      "image/png": "[encoded data removed]",
      "text/plain": [
       "<Figure size 404.5x360 with 1 Axes>"
      ]
     },
     "metadata": {
      "needs_background": "light"
     },
     "output_type": "display_data"
    }
   ],
   "source": [
    "FeatureBoxplot(dataProc.AllData, 'Sex')"
   ]
  },
  {
   "cell_type": "code",
   "execution_count": 20,
   "metadata": {},
   "outputs": [
    {
     "data": {
      "image/png": "[encoded data removed]",
      "text/plain": [
       "<Figure size 404.5x360 with 1 Axes>"
      ]
     },
     "metadata": {
      "needs_background": "light"
     },
     "output_type": "display_data"
    }
   ],
   "source": [
    "FeatureBoxplot(dataProc.AllData, 'Embarked')"
   ]
  },
  {
   "cell_type": "markdown",
   "metadata": {},
   "source": [
    "#### Feature generation and encoding for categorical features"
   ]
  },
  {
   "cell_type": "code",
   "execution_count": 21,
   "metadata": {},
   "outputs": [],
   "source": [
    "def PopulateFeatures(data):\n",
    "    data.Cabin.fillna('NA', inplace=True)\n",
    "    data['CabinType'] = data.Cabin.fillna('NA').str.get(0)\n",
    "    return data"
   ]
  },
  {
   "cell_type": "code",
   "execution_count": 22,
   "metadata": {},
   "outputs": [],
   "source": [
    "dataProc.AllData = PopulateFeatures(dataProc.AllData)\n",
    "submitDataProc.AllData = PopulateFeatures(submitDataProc.AllData)"
   ]
  },
  {
   "cell_type": "code",
   "execution_count": 23,
   "metadata": {},
   "outputs": [
    {
     "data": {
      "image/png": "[encoded data removed]",
      "text/plain": [
       "<Figure size 404.5x360 with 1 Axes>"
      ]
     },
     "metadata": {
      "needs_background": "light"
     },
     "output_type": "display_data"
    }
   ],
   "source": [
    "FeatureBoxplot(dataProc.AllData, 'CabinType')"
   ]
  },
  {
   "cell_type": "code",
   "execution_count": 24,
   "metadata": {},
   "outputs": [],
   "source": [
    "####################################################################################################################\n",
    "##  It seems cabin type B, D, E has high survival ratio, create an indicator column for these, group others together\n",
    "####################################################################################################################\n",
    "dataProc.AllData['CabinType_B_D_E'] = np.where(dataProc.AllData.CabinType.isin(['B', 'D', 'E']), 2, 1)\n",
    "submitDataProc.AllData['CabinType_B_D_E'] = np.where(submitDataProc.AllData.CabinType.isin(['B', 'D', 'E']), 2, 1)"
   ]
  },
  {
   "cell_type": "code",
   "execution_count": 25,
   "metadata": {},
   "outputs": [
    {
     "data": {
      "image/png": "[encoded data removed]",
      "text/plain": [
       "<Figure size 404.5x360 with 1 Axes>"
      ]
     },
     "metadata": {
      "needs_background": "light"
     },
     "output_type": "display_data"
    }
   ],
   "source": [
    "FeatureBoxplot(dataProc.AllData, 'CabinType_B_D_E')"
   ]
  },
  {
   "cell_type": "code",
   "execution_count": 26,
   "metadata": {},
   "outputs": [],
   "source": [
    "dataProc.AllData.Age.fillna(-999, inplace=True)\n",
    "submitDataProc.AllData.Age.fillna(-999, inplace=True)"
   ]
  },
  {
   "cell_type": "code",
   "execution_count": 27,
   "metadata": {},
   "outputs": [],
   "source": [
    "bins = [-10000, 0, 20, 60, 1000]\n",
    "dataProc.AllData['AgeGroup'] = pd.cut(dataProc.AllData.Age, bins).astype(str)\n",
    "submitDataProc.AllData['AgeGroup'] = pd.cut(submitDataProc.AllData.Age, bins).astype(str)"
   ]
  },
  {
   "cell_type": "code",
   "execution_count": 28,
   "metadata": {},
   "outputs": [],
   "source": [
    "dataProc.AllData['GenderAgeGroup'] = dataProc.AllData.Sex + '_' + dataProc.AllData.AgeGroup\n",
    "submitDataProc.AllData['GenderAgeGroup'] = submitDataProc.AllData.Sex + '_' + submitDataProc.AllData.AgeGroup"
   ]
  },
  {
   "cell_type": "code",
   "execution_count": 29,
   "metadata": {},
   "outputs": [
    {
     "data": {
      "text/html": [
       "<div>\n",
       "<style scoped>\n",
       "    .dataframe tbody tr th:only-of-type {\n",
       "        vertical-align: middle;\n",
       "    }\n",
       "\n",
       "    .dataframe tbody tr th {\n",
       "        vertical-align: top;\n",
       "    }\n",
       "\n",
       "    .dataframe thead tr th {\n",
       "        text-align: left;\n",
       "    }\n",
       "\n",
       "    .dataframe thead tr:last-of-type th {\n",
       "        text-align: right;\n",
       "    }\n",
       "</style>\n",
       "<table border=\"1\" class=\"dataframe\">\n",
       "  <thead>\n",
       "    <tr>\n",
       "      <th></th>\n",
       "      <th colspan=\"2\" halign=\"left\">Survived</th>\n",
       "    </tr>\n",
       "    <tr>\n",
       "      <th></th>\n",
       "      <th>mean</th>\n",
       "      <th>count</th>\n",
       "    </tr>\n",
       "    <tr>\n",
       "      <th>GenderAgeGroup</th>\n",
       "      <th></th>\n",
       "      <th></th>\n",
       "    </tr>\n",
       "  </thead>\n",
       "  <tbody>\n",
       "    <tr>\n",
       "      <th>female_(60, 1000]</th>\n",
       "      <td>1.000000</td>\n",
       "      <td>2</td>\n",
       "    </tr>\n",
       "    <tr>\n",
       "      <th>female_(20, 60]</th>\n",
       "      <td>0.777778</td>\n",
       "      <td>180</td>\n",
       "    </tr>\n",
       "    <tr>\n",
       "      <th>female_(0, 20]</th>\n",
       "      <td>0.688312</td>\n",
       "      <td>77</td>\n",
       "    </tr>\n",
       "    <tr>\n",
       "      <th>female_(-10000, 0]</th>\n",
       "      <td>0.679245</td>\n",
       "      <td>53</td>\n",
       "    </tr>\n",
       "    <tr>\n",
       "      <th>male_(0, 20]</th>\n",
       "      <td>0.287129</td>\n",
       "      <td>101</td>\n",
       "    </tr>\n",
       "    <tr>\n",
       "      <th>male_(20, 60]</th>\n",
       "      <td>0.187117</td>\n",
       "      <td>326</td>\n",
       "    </tr>\n",
       "    <tr>\n",
       "      <th>male_(-10000, 0]</th>\n",
       "      <td>0.137931</td>\n",
       "      <td>116</td>\n",
       "    </tr>\n",
       "    <tr>\n",
       "      <th>male_(60, 1000]</th>\n",
       "      <td>0.105263</td>\n",
       "      <td>19</td>\n",
       "    </tr>\n",
       "  </tbody>\n",
       "</table>\n",
       "</div>"
      ],
      "text/plain": [
       "                    Survived      \n",
       "                        mean count\n",
       "GenderAgeGroup                    \n",
       "female_(60, 1000]   1.000000     2\n",
       "female_(20, 60]     0.777778   180\n",
       "female_(0, 20]      0.688312    77\n",
       "female_(-10000, 0]  0.679245    53\n",
       "male_(0, 20]        0.287129   101\n",
       "male_(20, 60]       0.187117   326\n",
       "male_(-10000, 0]    0.137931   116\n",
       "male_(60, 1000]     0.105263    19"
      ]
     },
     "execution_count": 29,
     "metadata": {},
     "output_type": "execute_result"
    }
   ],
   "source": [
    "dataProc.AllData.groupby(['GenderAgeGroup']).agg({'Survived' : ['mean', 'count']}).sort_values(by=('Survived', 'mean'), \n",
    "                                                                                               ascending=False)"
   ]
  },
  {
   "cell_type": "code",
   "execution_count": 30,
   "metadata": {},
   "outputs": [],
   "source": [
    "genderAgeGroups = {\n",
    "    'GenderAgeGroup' : {\n",
    "        'female_(20, 60]' : 7, \n",
    "        'female_(60, 1000]' : 8,\n",
    "        'female_(0, 20]' : 6, \n",
    "        'female_(-10000, 0]' : 5,\n",
    "        'male_(0, 20]' : 4, \n",
    "        'male_(20, 60]' : 3, \n",
    "        'male_(-10000, 0]' : 2, \n",
    "        'male_(60, 1000]' : 1\n",
    "    }\n",
    "}"
   ]
  },
  {
   "cell_type": "code",
   "execution_count": 31,
   "metadata": {},
   "outputs": [],
   "source": [
    "dataProc.AllData.replace(genderAgeGroups, inplace=True)\n",
    "submitDataProc.AllData.replace(genderAgeGroups, inplace=True)"
   ]
  },
  {
   "cell_type": "code",
   "execution_count": 32,
   "metadata": {},
   "outputs": [],
   "source": [
    "genderGroups = {\n",
    "    'Sex' : {\n",
    "        'male' : 1,\n",
    "        'female' : 2\n",
    "    }\n",
    "}"
   ]
  },
  {
   "cell_type": "code",
   "execution_count": 33,
   "metadata": {},
   "outputs": [],
   "source": [
    "dataProc.AllData.replace(genderGroups, inplace=True)\n",
    "submitDataProc.AllData.replace(genderGroups, inplace=True)"
   ]
  },
  {
   "cell_type": "code",
   "execution_count": 34,
   "metadata": {},
   "outputs": [],
   "source": [
    "embarkedEncoding = {\n",
    "    'Embarked' : {\n",
    "       'S' : 1,\n",
    "       'Q' : 1,\n",
    "       'C' : 2\n",
    "    }\n",
    "}"
   ]
  },
  {
   "cell_type": "code",
   "execution_count": 35,
   "metadata": {},
   "outputs": [],
   "source": [
    "dataProc.AllData.replace(embarkedEncoding, inplace=True)\n",
    "submitDataProc.AllData.replace(embarkedEncoding, inplace=True)"
   ]
  },
  {
   "cell_type": "code",
   "execution_count": 36,
   "metadata": {},
   "outputs": [],
   "source": [
    "featureColumns = featureColumns + ['CabinType_B_D_E', 'Sex', 'Embarked', 'GenderAgeGroup']"
   ]
  },
  {
   "cell_type": "code",
   "execution_count": 37,
   "metadata": {},
   "outputs": [
    {
     "data": {
      "text/plain": [
       "['SibSp_Plus_Parch',\n",
       " 'Pclass',\n",
       " 'LogFare',\n",
       " 'CabinType_B_D_E',\n",
       " 'Sex',\n",
       " 'Embarked',\n",
       " 'GenderAgeGroup']"
      ]
     },
     "execution_count": 37,
     "metadata": {},
     "output_type": "execute_result"
    }
   ],
   "source": [
    "featureColumns"
   ]
  },
  {
   "cell_type": "markdown",
   "metadata": {},
   "source": [
    "## Use clustering approach to group passagers"
   ]
  },
  {
   "cell_type": "code",
   "execution_count": 38,
   "metadata": {},
   "outputs": [],
   "source": [
    "columnsToFindCluster = ['Pclass', 'GenderAgeGroup', 'SibSp_Plus_Parch']"
   ]
  },
  {
   "cell_type": "code",
   "execution_count": 39,
   "metadata": {},
   "outputs": [],
   "source": [
    "from sklearn.preprocessing import StandardScaler\n",
    "scaler = StandardScaler()\n",
    "trainingCopy = dataProc.AllData[columnsToFindCluster]\n",
    "trainingCopy = scaler.fit_transform(trainingCopy)\n",
    "submitDataCopy = scaler.transform(submitDataProc.AllData[columnsToFindCluster])"
   ]
  },
  {
   "cell_type": "code",
   "execution_count": 40,
   "metadata": {},
   "outputs": [],
   "source": [
    "trainingCopy[:, 0] = trainingCopy[:, 0] * 10\n",
    "trainingCopy[:, 1] = trainingCopy[:, 1] * 5\n",
    "trainingCopy[:, 2] = trainingCopy[:, 2]  \n",
    "\n",
    "submitDataCopy[:, 0] = submitDataCopy[:, 0] * 10\n",
    "submitDataCopy[:, 1] = submitDataCopy[:, 1] * 5\n",
    "submitDataCopy[:, 2] = submitDataCopy[:, 2]"
   ]
  },
  {
   "cell_type": "code",
   "execution_count": 41,
   "metadata": {},
   "outputs": [
    {
     "data": {
      "image/png": "[encoded data removed]",
      "text/plain": [
       "<Figure size 432x288 with 2 Axes>"
      ]
     },
     "metadata": {},
     "output_type": "display_data"
    }
   ],
   "source": [
    "kmeans = KMeans()\n",
    "visualizer = KElbowVisualizer(kmeans, k=(4,20))\n",
    "visualizer.fit(trainingCopy) \n",
    "visualizer.poof()"
   ]
  },
  {
   "cell_type": "code",
   "execution_count": 42,
   "metadata": {},
   "outputs": [],
   "source": [
    "kmeans = KMeans(n_clusters=6, random_state=randomSeed).fit(trainingCopy)"
   ]
  },
  {
   "cell_type": "code",
   "execution_count": 43,
   "metadata": {},
   "outputs": [],
   "source": [
    "featureColumns.append(clusterIdCol)"
   ]
  },
  {
   "cell_type": "code",
   "execution_count": 44,
   "metadata": {},
   "outputs": [],
   "source": [
    "dataProc.AllData[clusterIdCol] = kmeans.labels_.astype(str)\n",
    "submitDataProc.AllData[clusterIdCol] = kmeans.predict(submitDataCopy).astype(str)"
   ]
  },
  {
   "cell_type": "code",
   "execution_count": 45,
   "metadata": {},
   "outputs": [
    {
     "data": {
      "text/plain": [
       "PassagerClusterId\n",
       "5    0.134111\n",
       "4    0.166667\n",
       "3    0.384615\n",
       "1    0.500000\n",
       "2    0.921053\n",
       "0    0.967391\n",
       "Name: Survived, dtype: float64"
      ]
     },
     "execution_count": 45,
     "metadata": {},
     "output_type": "execute_result"
    }
   ],
   "source": [
    "dataProc.AllData.groupby([clusterIdCol])[target].mean().sort_values()"
   ]
  },
  {
   "cell_type": "code",
   "execution_count": 46,
   "metadata": {},
   "outputs": [
    {
     "data": {
      "text/html": [
       "<div>\n",
       "<style scoped>\n",
       "    .dataframe tbody tr th:only-of-type {\n",
       "        vertical-align: middle;\n",
       "    }\n",
       "\n",
       "    .dataframe tbody tr th {\n",
       "        vertical-align: top;\n",
       "    }\n",
       "\n",
       "    .dataframe thead th {\n",
       "        text-align: right;\n",
       "    }\n",
       "</style>\n",
       "<table border=\"1\" class=\"dataframe\">\n",
       "  <thead>\n",
       "    <tr style=\"text-align: right;\">\n",
       "      <th></th>\n",
       "      <th>PassengerId</th>\n",
       "      <th>Pclass</th>\n",
       "      <th>Name</th>\n",
       "      <th>Sex</th>\n",
       "      <th>Age</th>\n",
       "      <th>SibSp</th>\n",
       "      <th>Parch</th>\n",
       "      <th>Ticket</th>\n",
       "      <th>Fare</th>\n",
       "      <th>Cabin</th>\n",
       "      <th>Embarked</th>\n",
       "      <th>SibSp_Plus_Parch</th>\n",
       "      <th>CabinType</th>\n",
       "      <th>CabinType_B_D_E</th>\n",
       "      <th>AgeGroup</th>\n",
       "      <th>GenderAgeGroup</th>\n",
       "      <th>PassagerClusterId</th>\n",
       "    </tr>\n",
       "  </thead>\n",
       "  <tbody>\n",
       "    <tr>\n",
       "      <th>152</th>\n",
       "      <td>1044</td>\n",
       "      <td>3</td>\n",
       "      <td>Storey, Mr. Thomas</td>\n",
       "      <td>1</td>\n",
       "      <td>60.5</td>\n",
       "      <td>0</td>\n",
       "      <td>0</td>\n",
       "      <td>3701</td>\n",
       "      <td>NaN</td>\n",
       "      <td>NA</td>\n",
       "      <td>1</td>\n",
       "      <td>3</td>\n",
       "      <td>N</td>\n",
       "      <td>1</td>\n",
       "      <td>(60, 1000]</td>\n",
       "      <td>1</td>\n",
       "      <td>5</td>\n",
       "    </tr>\n",
       "  </tbody>\n",
       "</table>\n",
       "</div>"
      ],
      "text/plain": [
       "     PassengerId  Pclass                Name  Sex   Age  SibSp  Parch Ticket  \\\n",
       "152         1044       3  Storey, Mr. Thomas    1  60.5      0      0   3701   \n",
       "\n",
       "     Fare Cabin  Embarked  SibSp_Plus_Parch CabinType  CabinType_B_D_E  \\\n",
       "152   NaN    NA         1                 3         N                1   \n",
       "\n",
       "       AgeGroup  GenderAgeGroup PassagerClusterId  \n",
       "152  (60, 1000]               1                 5  "
      ]
     },
     "execution_count": 46,
     "metadata": {},
     "output_type": "execute_result"
    }
   ],
   "source": [
    "submitDataProc.AllData[submitDataProc.AllData.Fare.isnull()]"
   ]
  },
  {
   "cell_type": "code",
   "execution_count": 47,
   "metadata": {},
   "outputs": [],
   "source": [
    "averageFare = submitDataProc.AllData[submitDataProc.AllData.PassagerClusterId == '5'].Fare.mean()\n",
    "submitDataProc.AllData.Fare.fillna(averageFare, inplace=True)\n",
    "submitDataProc.AllData['LogFare'] = np.log(submitDataProc.AllData['Fare'] + 0.001)"
   ]
  },
  {
   "cell_type": "code",
   "execution_count": 48,
   "metadata": {},
   "outputs": [],
   "source": [
    "clusterMapping = {\n",
    "    clusterIdCol : {\n",
    "        '5' : 1,\n",
    "        '4' : 1,\n",
    "        '3' : 2,\n",
    "        '1' : 3,\n",
    "        '2' : 4,\n",
    "        '0' : 4,\n",
    "    }\n",
    "}"
   ]
  },
  {
   "cell_type": "code",
   "execution_count": 49,
   "metadata": {
    "scrolled": true
   },
   "outputs": [],
   "source": [
    "dataProc.AllData.replace(clusterMapping, inplace=True)\n",
    "submitDataProc.AllData.replace(clusterMapping, inplace=True)"
   ]
  },
  {
   "cell_type": "code",
   "execution_count": 50,
   "metadata": {},
   "outputs": [],
   "source": [
    "dataProc.PopulateFeatureColumns(featureColumns)\n",
    "submitDataProc.PopulateFeatureColumns(featureColumns)"
   ]
  },
  {
   "cell_type": "code",
   "execution_count": 51,
   "metadata": {},
   "outputs": [],
   "source": [
    "dataProc.y = dataProc.AllData[target]"
   ]
  },
  {
   "cell_type": "code",
   "execution_count": 52,
   "metadata": {},
   "outputs": [],
   "source": [
    "dataProc.RandomSplitTrainTestData(testRatio, randomSeed, True)"
   ]
  },
  {
   "cell_type": "code",
   "execution_count": 53,
   "metadata": {},
   "outputs": [],
   "source": [
    "preProc = ColumnTransformer([\n",
    "    ('StdScaler', StandardScaler(), featureColumns)\n",
    "])"
   ]
  },
  {
   "cell_type": "markdown",
   "metadata": {},
   "source": [
    "## Random forest model"
   ]
  },
  {
   "cell_type": "code",
   "execution_count": 54,
   "metadata": {},
   "outputs": [],
   "source": [
    "rf = RandomForestClassifier(random_state = randomSeed)\n",
    "rfpipeline = Pipeline([('preProc', preProc),\n",
    "                       ('poly', PolynomialFeatures()),\n",
    "                       #('ReduceDim', SelectKBest(f_classif)),\n",
    "                       ('rf', rf)])\n",
    "params = {\n",
    "    'poly__degree' : [1, 2],\n",
    "    'rf__n_estimators' : range(10, 20),\n",
    "    'rf__max_depth' : range(1, 5),\n",
    "    'rf__max_features' : ['sqrt', 'log2', None]\n",
    "}\n",
    "rfcv = RandomizedSearchCV(rfpipeline, n_iter= 180, scoring = 'accuracy', n_jobs=numCores, \n",
    "                          param_distributions=params, verbose=1, cv = 2, random_state=randomSeed)"
   ]
  },
  {
   "cell_type": "code",
   "execution_count": 55,
   "metadata": {},
   "outputs": [],
   "source": [
    "#rfcv.fit(dataProc.X_train, dataProc.y_train)"
   ]
  },
  {
   "cell_type": "code",
   "execution_count": 56,
   "metadata": {},
   "outputs": [],
   "source": [
    "#rfcv.best_params_"
   ]
  },
  {
   "cell_type": "code",
   "execution_count": 57,
   "metadata": {},
   "outputs": [],
   "source": [
    "#y_train_stacking_pred = rfcv.predict(dataProc.X_train)\n",
    "#print('Training %.3f ' % accuracy_score(dataProc.y_train, y_train_stacking_pred))\n",
    "#\n",
    "#y_test_stacking_pred = rfcv.predict(dataProc.X_test)\n",
    "#print('Test %.3f ' % accuracy_score(dataProc.y_test, y_test_stacking_pred))"
   ]
  },
  {
   "cell_type": "markdown",
   "metadata": {},
   "source": [
    "## XGB model"
   ]
  },
  {
   "cell_type": "code",
   "execution_count": 58,
   "metadata": {},
   "outputs": [],
   "source": [
    "param_grid = {\n",
    "    'poly__degree' : [1, 2],\n",
    "    'xgb__max_depth' : [3, 4, 5, 6],\n",
    "    'xgb__learning_rate' : [0.05, 0.1, 0.2],\n",
    "    'xgb__n_estimators' : range(5, 21),\n",
    "    'xgb__subsample' : [0.8, 0.9, 0.95],\n",
    "    'xgb__colsample_bytree' : [0.8, 0.9, 0.95],\n",
    "    'xgb__reg_alpha' : [0.05, 0.1, 0.2, 0.4],\n",
    "    'xgb__reg_lambda' : [0.05, 0.1, 0.2, 0.4],\n",
    "    'xgb__gamma' : [0.0001, 0.001, 0.01, 0.1]\n",
    "}\n",
    "\n",
    "xgb = xgboost.XGBClassifier(seed=randomSeed)\n",
    "xgbpipeline = Pipeline([('preProc', preProc),\n",
    "                        ('poly', PolynomialFeatures()),\n",
    "                        ('xgb', xgb)])\n",
    "xgbcv = RandomizedSearchCV(xgbpipeline, n_iter = 200, cv=5, param_distributions =param_grid, n_jobs=numCores,\n",
    "                           scoring='accuracy', verbose = 1, random_state=randomSeed)"
   ]
  },
  {
   "cell_type": "code",
   "execution_count": 59,
   "metadata": {},
   "outputs": [],
   "source": [
    "#xgbcv.fit(dataProc.X_train, dataProc.y_train)"
   ]
  },
  {
   "cell_type": "code",
   "execution_count": 60,
   "metadata": {},
   "outputs": [],
   "source": [
    "#xgbcv.best_params_"
   ]
  },
  {
   "cell_type": "code",
   "execution_count": 61,
   "metadata": {},
   "outputs": [],
   "source": [
    "#y_train_stacking_pred = xgbcv.predict(dataProc.X_train)\n",
    "#print('Training %.3f ' % accuracy_score(dataProc.y_train, y_train_stacking_pred))\n",
    "#\n",
    "#y_test_stacking_pred = xgbcv.predict(dataProc.X_test)\n",
    "#print('Test %.3f ' % accuracy_score(dataProc.y_test, y_test_stacking_pred))"
   ]
  },
  {
   "cell_type": "markdown",
   "metadata": {},
   "source": [
    "## AdaBoost"
   ]
  },
  {
   "cell_type": "code",
   "execution_count": 62,
   "metadata": {},
   "outputs": [],
   "source": [
    "from sklearn.ensemble import AdaBoostClassifier\n",
    "param_grid = {\n",
    "    'ada__learning_rate' : [0.01, 0.05, 0.1, 0.2, 0.4, 0.6, 0.8],\n",
    "    'ada__n_estimators' : range(5, 150)\n",
    "}\n",
    "ada = AdaBoostClassifier(random_state=randomSeed)\n",
    "adapipeline = Pipeline([('ada', ada)])\n",
    "adacv = RandomizedSearchCV(adapipeline, n_iter = 220, cv=5, param_distributions =param_grid,\n",
    "                           scoring='accuracy', verbose = 1, random_state=randomSeed)"
   ]
  },
  {
   "cell_type": "code",
   "execution_count": 63,
   "metadata": {},
   "outputs": [],
   "source": [
    "#adacv.fit(dataProc.X_train, dataProc.y_train)"
   ]
  },
  {
   "cell_type": "code",
   "execution_count": 64,
   "metadata": {},
   "outputs": [],
   "source": [
    "#adacv.best_params_"
   ]
  },
  {
   "cell_type": "code",
   "execution_count": 65,
   "metadata": {},
   "outputs": [],
   "source": [
    "#y_train_stacking_pred = adacv.predict(dataProc.X_train)\n",
    "#print('Training %.3f ' % accuracy_score(dataProc.y_train, y_train_stacking_pred))\n",
    "#\n",
    "#y_test_stacking_pred = adacv.predict(dataProc.X_test)\n",
    "#print('Test %.3f ' % accuracy_score(dataProc.y_test, y_test_stacking_pred))"
   ]
  },
  {
   "cell_type": "markdown",
   "metadata": {},
   "source": [
    "## Logistic regression"
   ]
  },
  {
   "cell_type": "code",
   "execution_count": 66,
   "metadata": {},
   "outputs": [],
   "source": [
    "from sklearn import linear_model\n",
    "param_grid = {\n",
    "    'poly__degree' : [1, 2],\n",
    "    'lr__penalty' : ['l1', 'l2'],\n",
    "    'lr__C' : np.logspace(0, 4, 6)\n",
    "}\n",
    "\n",
    "logistic = linear_model.LogisticRegression()\n",
    "logisticPipeline = Pipeline([('poly', PolynomialFeatures()), \n",
    "                             ('lr', logistic)])\n",
    "logisticCV = GridSearchCV(logisticPipeline, param_grid, cv=5, verbose=1, n_jobs = numCores, scoring='accuracy') "
   ]
  },
  {
   "cell_type": "code",
   "execution_count": 67,
   "metadata": {},
   "outputs": [],
   "source": [
    "#logisticCV.fit(dataProc.X_train, dataProc.y_train)"
   ]
  },
  {
   "cell_type": "code",
   "execution_count": 68,
   "metadata": {},
   "outputs": [],
   "source": [
    "#logisticCV.best_params_"
   ]
  },
  {
   "cell_type": "code",
   "execution_count": 69,
   "metadata": {},
   "outputs": [],
   "source": [
    "#y_train_stacking_pred = logisticCV.predict(dataProc.X_train)\n",
    "#print('Training %.3f ' % accuracy_score(dataProc.y_train, y_train_stacking_pred))\n",
    "#\n",
    "#y_test_stacking_pred = logisticCV.predict(dataProc.X_test)\n",
    "#print('Test %.3f ' % accuracy_score(dataProc.y_test, y_test_stacking_pred))"
   ]
  },
  {
   "cell_type": "markdown",
   "metadata": {},
   "source": [
    "## SVC "
   ]
  },
  {
   "cell_type": "code",
   "execution_count": 70,
   "metadata": {},
   "outputs": [],
   "source": [
    "svc = SVC(gamma='auto', random_state = randomSeed)\n",
    "param_grid = {\n",
    "    'C' : [1, 2, 4, 8],\n",
    "    'shrinking' : [True, False]\n",
    "}\n",
    "svcCV = GridSearchCV(svc, param_grid, cv=20, verbose=1, n_jobs = numCores, scoring='accuracy') "
   ]
  },
  {
   "cell_type": "code",
   "execution_count": 71,
   "metadata": {},
   "outputs": [],
   "source": [
    "#svcCV.fit(dataProc.X_train, dataProc.y_train)"
   ]
  },
  {
   "cell_type": "code",
   "execution_count": 72,
   "metadata": {},
   "outputs": [],
   "source": [
    "#y_train_stacking_pred = svcCV.predict(dataProc.X_train)\n",
    "#print('Training %.3f ' % accuracy_score(dataProc.y_train, y_train_stacking_pred))\n",
    "#\n",
    "#y_test_stacking_pred = svcCV.predict(dataProc.X_test)\n",
    "#print('Test %.3f ' % accuracy_score(dataProc.y_test, y_test_stacking_pred))"
   ]
  },
  {
   "cell_type": "markdown",
   "metadata": {},
   "source": [
    "## Model stacking"
   ]
  },
  {
   "cell_type": "code",
   "execution_count": 73,
   "metadata": {
    "scrolled": false
   },
   "outputs": [
    {
     "name": "stderr",
     "output_type": "stream",
     "text": [
      "[MLENS] backend: threading\n"
     ]
    },
    {
     "data": {
      "text/plain": [
       "SuperLearner(array_check=None, backend=None, folds=3,\n",
       "       layers=[Layer(backend='threading', dtype=<class 'numpy.float32'>, n_jobs=-1,\n",
       "   name='layer-1', propagate_features=None, raise_on_exception=True,\n",
       "   random_state=4761, shuffle=False,\n",
       "   stack=[Group(backend='threading', dtype=<class 'numpy.float32'>,\n",
       "   indexer=FoldIndex(X=None, folds=3, raise_on_ex...374E620>)],\n",
       "   n_jobs=-1, name='group-1', raise_on_exception=True, transformers=[])],\n",
       "   verbose=0)],\n",
       "       model_selection=False, n_jobs=None, raise_on_exception=True,\n",
       "       random_state=83213, sample_size=20,\n",
       "       scorer=<function accuracy_score at 0x000001B3B374E620>,\n",
       "       shuffle=False, verbose=1)"
      ]
     },
     "execution_count": 73,
     "metadata": {},
     "output_type": "execute_result"
    }
   ],
   "source": [
    "from mlens.ensemble import SuperLearner\n",
    "ensemble = SuperLearner(scorer=accuracy_score, random_state=randomSeed, folds = 3, verbose = 1, n_jobs = numCores)\n",
    "estimators = [rfcv, xgbcv, logisticCV, adacv]\n",
    "ensemble.add(estimators, proba=True)\n",
    "ensemble.add_meta(svc)"
   ]
  },
  {
   "cell_type": "code",
   "execution_count": 74,
   "metadata": {
    "scrolled": false
   },
   "outputs": [
    {
     "name": "stdout",
     "output_type": "stream",
     "text": [
      "\n",
      "Fitting 2 layers\n",
      "Fitting 5 folds for each of 24 candidates, totalling 120 fits\n",
      "Fitting 5 folds for each of 24 candidates, totalling 120 fitsFitting 2 folds for each of 180 candidates, totalling 360 fits\n",
      "Fitting 5 folds for each of 24 candidates, totalling 120 fitsFitting 2 folds for each of 180 candidates, totalling 360 fits\n",
      "\n",
      "\n",
      "Fitting 2 folds for each of 180 candidates, totalling 360 fits\n",
      "Fitting 5 folds for each of 24 candidates, totalling 120 fits\n"
     ]
    },
    {
     "name": "stderr",
     "output_type": "stream",
     "text": [
      "[Parallel(n_jobs=7)]: Using backend SequentialBackend with 1 concurrent workers.\n",
      "[Parallel(n_jobs=7)]: Using backend SequentialBackend with 1 concurrent workers.\n",
      "[Parallel(n_jobs=7)]: Using backend SequentialBackend with 1 concurrent workers.\n",
      "[Parallel(n_jobs=7)]: Using backend SequentialBackend with 1 concurrent workers.\n",
      "[Parallel(n_jobs=7)]: Using backend SequentialBackend with 1 concurrent workers.\n",
      "[Parallel(n_jobs=7)]: Using backend SequentialBackend with 1 concurrent workers.\n",
      "[Parallel(n_jobs=7)]: Using backend SequentialBackend with 1 concurrent workers.\n",
      "[Parallel(n_jobs=7)]: Done 360 out of 360 | elapsed:   37.8s finished\n",
      "[Parallel(n_jobs=7)]: Done 360 out of 360 | elapsed:   37.9s finished\n",
      "[Parallel(n_jobs=7)]: Using backend SequentialBackend with 1 concurrent workers.\n"
     ]
    },
    {
     "name": "stdout",
     "output_type": "stream",
     "text": [
      "Fitting 2 folds for each of 180 candidates, totalling 360 fits\n",
      "Fitting 5 folds for each of 200 candidates, totalling 1000 fits\n"
     ]
    },
    {
     "name": "stderr",
     "output_type": "stream",
     "text": [
      "[Parallel(n_jobs=7)]: Using backend SequentialBackend with 1 concurrent workers.\n",
      "[Parallel(n_jobs=7)]: Done 120 out of 120 | elapsed:   44.7s finished\n"
     ]
    },
    {
     "name": "stdout",
     "output_type": "stream",
     "text": [
      "Fitting 5 folds for each of 200 candidates, totalling 1000 fits\n"
     ]
    },
    {
     "name": "stderr",
     "output_type": "stream",
     "text": [
      "[Parallel(n_jobs=7)]: Using backend SequentialBackend with 1 concurrent workers.\n",
      "[Parallel(n_jobs=7)]: Done 120 out of 120 | elapsed:   47.3s finished\n"
     ]
    },
    {
     "name": "stdout",
     "output_type": "stream",
     "text": [
      "Fitting 5 folds for each of 200 candidates, totalling 1000 fits\n"
     ]
    },
    {
     "name": "stderr",
     "output_type": "stream",
     "text": [
      "[Parallel(n_jobs=7)]: Using backend SequentialBackend with 1 concurrent workers.\n",
      "[Parallel(n_jobs=7)]: Done 120 out of 120 | elapsed:   50.6s finished\n",
      "[Parallel(n_jobs=7)]: Done 360 out of 360 | elapsed:   52.3s finished\n"
     ]
    },
    {
     "name": "stdout",
     "output_type": "stream",
     "text": [
      "Fitting 5 folds for each of 200 candidates, totalling 1000 fits\n",
      "Fitting 5 folds for each of 220 candidates, totalling 1100 fits\n"
     ]
    },
    {
     "name": "stderr",
     "output_type": "stream",
     "text": [
      "[Parallel(n_jobs=7)]: Using backend SequentialBackend with 1 concurrent workers.\n",
      "[Parallel(n_jobs=1)]: Using backend SequentialBackend with 1 concurrent workers.\n",
      "[Parallel(n_jobs=7)]: Done 120 out of 120 | elapsed:  1.1min finished\n",
      "[Parallel(n_jobs=1)]: Using backend SequentialBackend with 1 concurrent workers.\n"
     ]
    },
    {
     "name": "stdout",
     "output_type": "stream",
     "text": [
      "Fitting 5 folds for each of 220 candidates, totalling 1100 fits\n"
     ]
    },
    {
     "name": "stderr",
     "output_type": "stream",
     "text": [
      "[Parallel(n_jobs=7)]: Done 360 out of 360 | elapsed:   50.3s finished\n",
      "[Parallel(n_jobs=1)]: Using backend SequentialBackend with 1 concurrent workers.\n"
     ]
    },
    {
     "name": "stdout",
     "output_type": "stream",
     "text": [
      "Fitting 5 folds for each of 220 candidates, totalling 1100 fits\n"
     ]
    },
    {
     "name": "stderr",
     "output_type": "stream",
     "text": [
      "[Parallel(n_jobs=7)]: Done 1000 out of 1000 | elapsed:  1.4min finished\n",
      "[Parallel(n_jobs=1)]: Using backend SequentialBackend with 1 concurrent workers.\n"
     ]
    },
    {
     "name": "stdout",
     "output_type": "stream",
     "text": [
      "Fitting 5 folds for each of 220 candidates, totalling 1100 fits\n"
     ]
    },
    {
     "name": "stderr",
     "output_type": "stream",
     "text": [
      "[Parallel(n_jobs=7)]: Done 1000 out of 1000 | elapsed:  1.4min finished\n",
      "[Parallel(n_jobs=7)]: Done 1000 out of 1000 | elapsed:  1.4min finished\n",
      "[Parallel(n_jobs=7)]: Done 1000 out of 1000 | elapsed:  1.8min finished\n",
      "[Parallel(n_jobs=1)]: Done 1100 out of 1100 | elapsed:  7.1min finished\n",
      "[Parallel(n_jobs=1)]: Done 1100 out of 1100 | elapsed:  6.9min finished\n",
      "[Parallel(n_jobs=1)]: Done 1100 out of 1100 | elapsed:  6.3min finished\n",
      "[Parallel(n_jobs=1)]: Done 1100 out of 1100 | elapsed:  8.2min finished\n"
     ]
    },
    {
     "name": "stdout",
     "output_type": "stream",
     "text": [
      "Fit complete                        | 00:09:03\n"
     ]
    },
    {
     "data": {
      "text/plain": [
       "SuperLearner(array_check=None, backend=None, folds=3,\n",
       "       layers=[Layer(backend='threading', dtype=<class 'numpy.float32'>, n_jobs=-1,\n",
       "   name='layer-1', propagate_features=None, raise_on_exception=True,\n",
       "   random_state=4761, shuffle=False,\n",
       "   stack=[Group(backend='threading', dtype=<class 'numpy.float32'>,\n",
       "   indexer=FoldIndex(X=None, folds=3, raise_on_ex...374E620>)],\n",
       "   n_jobs=-1, name='group-1', raise_on_exception=True, transformers=[])],\n",
       "   verbose=0)],\n",
       "       model_selection=False, n_jobs=None, raise_on_exception=True,\n",
       "       random_state=83213, sample_size=20,\n",
       "       scorer=<function accuracy_score at 0x000001B3B374E620>,\n",
       "       shuffle=False, verbose=1)"
      ]
     },
     "execution_count": 74,
     "metadata": {},
     "output_type": "execute_result"
    }
   ],
   "source": [
    "ensemble.fit(dataProc.X_train, dataProc.y_train)"
   ]
  },
  {
   "cell_type": "code",
   "execution_count": 75,
   "metadata": {},
   "outputs": [
    {
     "name": "stdout",
     "output_type": "stream",
     "text": [
      "\n",
      "Predicting 2 layers\n",
      "Predict complete                    | 00:00:00\n",
      "Training 0.827 \n"
     ]
    }
   ],
   "source": [
    "y_train_stacking_pred = ensemble.predict(dataProc.X_train)\n",
    "print('Training %.3f ' % accuracy_score(dataProc.y_train, y_train_stacking_pred))"
   ]
  },
  {
   "cell_type": "code",
   "execution_count": 76,
   "metadata": {},
   "outputs": [
    {
     "name": "stdout",
     "output_type": "stream",
     "text": [
      "\n",
      "Predicting 2 layers\n",
      "Predict complete                    | 00:00:00\n",
      "Test 0.777 \n"
     ]
    }
   ],
   "source": [
    "y_test_stacking_pred = ensemble.predict(dataProc.X_test)\n",
    "print('Test %.3f ' % accuracy_score(dataProc.y_test, y_test_stacking_pred))"
   ]
  },
  {
   "cell_type": "code",
   "execution_count": 78,
   "metadata": {},
   "outputs": [
    {
     "name": "stdout",
     "output_type": "stream",
     "text": [
      "\n",
      "Predicting 2 layers\n",
      "Predict complete                    | 00:00:00\n"
     ]
    }
   ],
   "source": [
    "submitDataProc.AllData[target] = ensemble.predict(submitDataProc.X).astype('int')\n",
    "submitDataProc.AllData[['PassengerId', 'Survived']].to_csv('submit.txt', index=False)"
   ]
  },
  {
   "cell_type": "code",
   "execution_count": null,
   "metadata": {},
   "outputs": [],
   "source": []
  }
 ],
 "metadata": {
  "kernelspec": {
   "display_name": "Python 3",
   "language": "python",
   "name": "python3"
  },
  "language_info": {
   "codemirror_mode": {
    "name": "ipython",
    "version": 3
   },
   "file_extension": ".py",
   "mimetype": "text/x-python",
   "name": "python",
   "nbconvert_exporter": "python",
   "pygments_lexer": "ipython3",
   "version": "3.6.7"
  }
 },
 "nbformat": 4,
 "nbformat_minor": 2
}
