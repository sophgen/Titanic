{
 "cells": [
  {
   "cell_type": "code",
   "execution_count": 1,
   "metadata": {},
   "outputs": [],
   "source": [
    "def warn(*args, **kwargs):\n",
    "    pass\n",
    "import warnings\n",
    "warnings.warn = warn"
   ]
  },
  {
   "cell_type": "code",
   "execution_count": 2,
   "metadata": {},
   "outputs": [],
   "source": [
    "import pandas as pd\n",
    "import numpy as np\n",
    "import imp\n",
    "import matplotlib.pyplot as plt\n",
    "import xgboost\n",
    "from sklearn.compose import ColumnTransformer, make_column_transformer\n",
    "from sklearn.preprocessing import StandardScaler\n",
    "from sklearn.preprocessing import OneHotEncoder\n",
    "from sklearn.pipeline import Pipeline\n",
    "from sklearn.feature_selection import *\n",
    "from sklearn.ensemble import RandomForestClassifier\n",
    "from sklearn.model_selection import RandomizedSearchCV\n",
    "from sklearn.model_selection import GridSearchCV\n",
    "from sklearn.linear_model import LogisticRegression\n",
    "from sklearn.metrics import accuracy_score, f1_score\n",
    "import seaborn as sns\n",
    "%matplotlib inline\n",
    "from HelperClass.DataProcessing import *"
   ]
  },
  {
   "cell_type": "code",
   "execution_count": 3,
   "metadata": {},
   "outputs": [],
   "source": [
    "trainDataFile = 'Data/train.csv'\n",
    "testDataFile = 'Data/test.csv'\n",
    "dataTypes = {\n",
    "    'PassengerId' : 'int64',\n",
    "    'Survived' : 'int64',\n",
    "    'Pclass' : 'int64',\n",
    "    'Name' : 'object',\n",
    "    'Sex' : 'object',\n",
    "    'Age' : 'float64',\n",
    "    'SibSp' : 'int64',\n",
    "    'Parch' : 'int64',\n",
    "    'Ticket' : 'object',\n",
    "    'Fare' : 'float64',\n",
    "    'Cabin' : 'object',\n",
    "    'Embarked' : 'object'\n",
    "}\n",
    "sep = ','\n",
    "target = 'Survived'\n",
    "randomSeed = 83213\n",
    "testRatio = 0.20\n",
    "numCores = 10"
   ]
  },
  {
   "cell_type": "code",
   "execution_count": 4,
   "metadata": {},
   "outputs": [],
   "source": [
    "dataProc = DataProcessing(trainDataFile, dataTypes, sep)\n",
    "dataProc.ReadFile()\n",
    "dataProc.AllData = dataProc.AllData[~dataProc.AllData.Embarked.isnull()]\n",
    "\n",
    "submitDataProc = DataProcessing(testDataFile, dataTypes, sep)\n",
    "submitDataProc.ReadFile()\n",
    "submitDataProc.AllData = submitDataProc.AllData[~submitDataProc.AllData.Embarked.isnull()]"
   ]
  },
  {
   "cell_type": "markdown",
   "metadata": {},
   "source": [
    "Findings\n",
    "1. Age makes difference, F_onewayResult(statistic=4.271194933815904, pvalue=0.03912465401348333)\n",
    "2. Fare makes difference, F_onewayResult(statistic=63.03076422804448, pvalue=6.120189341921873e-15)\n",
    "3. PassengerId doesn't make difference, F_onewayResult(statistic=0.022284812266068058, pvalue=0.8813657768798144)\n",
    "4. Pclass makes difference, F_onewayResult(statistic=115.03127218827665, pvalue=2.5370473879805644e-25)\n",
    "5. SibSp doesn't make difference, F_onewayResult(statistic=1.110572204113227, pvalue=0.29224392869817906)\n",
    "6. Parch makes difference, F_onewayResult(statistic=5.963463836603541, pvalue=0.0147992453747224)"
   ]
  },
  {
   "cell_type": "code",
   "execution_count": 5,
   "metadata": {},
   "outputs": [],
   "source": [
    "def PopulateFeatures(data):\n",
    "    data.Cabin.fillna('NA', inplace=True)\n",
    "    data['CabinType'] = data.Cabin.fillna('NA').str.get(0)\n",
    "    return data"
   ]
  },
  {
   "cell_type": "code",
   "execution_count": 6,
   "metadata": {},
   "outputs": [],
   "source": [
    "dataProc.AllData = PopulateFeatures(dataProc.AllData)\n",
    "submitDataProc.AllData = PopulateFeatures(submitDataProc.AllData)"
   ]
  },
  {
   "cell_type": "code",
   "execution_count": 7,
   "metadata": {},
   "outputs": [],
   "source": [
    "dataProc.AllData['CabinType_B_D_E'] = np.where(dataProc.AllData.CabinType.isin(['B', 'D', 'E']), 2, 1)\n",
    "submitDataProc.AllData['CabinType_B_D_E'] = np.where(submitDataProc.AllData.CabinType.isin(['B', 'D', 'E']), 2, 1)"
   ]
  },
  {
   "cell_type": "code",
   "execution_count": 8,
   "metadata": {},
   "outputs": [],
   "source": [
    "dataProc.AllData.Age.fillna(-999, inplace=True)\n",
    "submitDataProc.AllData.Age.fillna(-999, inplace=True)"
   ]
  },
  {
   "cell_type": "code",
   "execution_count": 9,
   "metadata": {},
   "outputs": [],
   "source": [
    "bins = [-10000, 0, 20, 60, 1000]\n",
    "dataProc.AllData['AgeGroup'] = pd.cut(dataProc.AllData.Age, bins).astype(str)\n",
    "submitDataProc.AllData['AgeGroup'] = pd.cut(submitDataProc.AllData.Age, bins).astype(str)"
   ]
  },
  {
   "cell_type": "code",
   "execution_count": 10,
   "metadata": {},
   "outputs": [],
   "source": [
    "dataProc.AllData['GenderAgeGroup'] = dataProc.AllData.Sex + '_' + dataProc.AllData.AgeGroup\n",
    "submitDataProc.AllData['GenderAgeGroup'] = submitDataProc.AllData.Sex + '_' + submitDataProc.AllData.AgeGroup"
   ]
  },
  {
   "cell_type": "code",
   "execution_count": 11,
   "metadata": {},
   "outputs": [
    {
     "data": {
      "text/html": [
       "<div>\n",
       "<style scoped>\n",
       "    .dataframe tbody tr th:only-of-type {\n",
       "        vertical-align: middle;\n",
       "    }\n",
       "\n",
       "    .dataframe tbody tr th {\n",
       "        vertical-align: top;\n",
       "    }\n",
       "\n",
       "    .dataframe thead tr th {\n",
       "        text-align: left;\n",
       "    }\n",
       "\n",
       "    .dataframe thead tr:last-of-type th {\n",
       "        text-align: right;\n",
       "    }\n",
       "</style>\n",
       "<table border=\"1\" class=\"dataframe\">\n",
       "  <thead>\n",
       "    <tr>\n",
       "      <th></th>\n",
       "      <th colspan=\"2\" halign=\"left\">Survived</th>\n",
       "    </tr>\n",
       "    <tr>\n",
       "      <th></th>\n",
       "      <th>mean</th>\n",
       "      <th>count</th>\n",
       "    </tr>\n",
       "    <tr>\n",
       "      <th>GenderAgeGroup</th>\n",
       "      <th></th>\n",
       "      <th></th>\n",
       "    </tr>\n",
       "  </thead>\n",
       "  <tbody>\n",
       "    <tr>\n",
       "      <th>female_(60, 1000]</th>\n",
       "      <td>1.000000</td>\n",
       "      <td>2</td>\n",
       "    </tr>\n",
       "    <tr>\n",
       "      <th>female_(20, 60]</th>\n",
       "      <td>0.777778</td>\n",
       "      <td>180</td>\n",
       "    </tr>\n",
       "    <tr>\n",
       "      <th>female_(0, 20]</th>\n",
       "      <td>0.688312</td>\n",
       "      <td>77</td>\n",
       "    </tr>\n",
       "    <tr>\n",
       "      <th>female_(-10000, 0]</th>\n",
       "      <td>0.679245</td>\n",
       "      <td>53</td>\n",
       "    </tr>\n",
       "    <tr>\n",
       "      <th>male_(0, 20]</th>\n",
       "      <td>0.284314</td>\n",
       "      <td>102</td>\n",
       "    </tr>\n",
       "    <tr>\n",
       "      <th>male_(20, 60]</th>\n",
       "      <td>0.186747</td>\n",
       "      <td>332</td>\n",
       "    </tr>\n",
       "    <tr>\n",
       "      <th>male_(-10000, 0]</th>\n",
       "      <td>0.129032</td>\n",
       "      <td>124</td>\n",
       "    </tr>\n",
       "    <tr>\n",
       "      <th>male_(60, 1000]</th>\n",
       "      <td>0.105263</td>\n",
       "      <td>19</td>\n",
       "    </tr>\n",
       "  </tbody>\n",
       "</table>\n",
       "</div>"
      ],
      "text/plain": [
       "                    Survived      \n",
       "                        mean count\n",
       "GenderAgeGroup                    \n",
       "female_(60, 1000]   1.000000     2\n",
       "female_(20, 60]     0.777778   180\n",
       "female_(0, 20]      0.688312    77\n",
       "female_(-10000, 0]  0.679245    53\n",
       "male_(0, 20]        0.284314   102\n",
       "male_(20, 60]       0.186747   332\n",
       "male_(-10000, 0]    0.129032   124\n",
       "male_(60, 1000]     0.105263    19"
      ]
     },
     "execution_count": 11,
     "metadata": {},
     "output_type": "execute_result"
    }
   ],
   "source": [
    "dataProc.AllData.groupby(['GenderAgeGroup']).agg({'Survived' : ['mean', 'count']}).sort_values(by=('Survived', 'mean'), \n",
    "                                                                                               ascending=False)"
   ]
  },
  {
   "cell_type": "code",
   "execution_count": 12,
   "metadata": {},
   "outputs": [],
   "source": [
    "genderAgeGroups = {\n",
    "    'GenderAgeGroup' : {\n",
    "        'female_(20, 60]' : 7, \n",
    "        'female_(60, 1000]' : 8,\n",
    "        'female_(0, 20]' : 6, \n",
    "        'female_(-10000, 0]' : 5,\n",
    "        'male_(0, 20]' : 4, \n",
    "        'male_(20, 60]' : 3, \n",
    "        'male_(-10000, 0]' : 2, \n",
    "        'male_(60, 1000]' : 1\n",
    "    }\n",
    "}"
   ]
  },
  {
   "cell_type": "code",
   "execution_count": 13,
   "metadata": {},
   "outputs": [],
   "source": [
    "dataProc.AllData.replace(genderAgeGroups, inplace=True)\n",
    "submitDataProc.AllData.replace(genderAgeGroups, inplace=True)"
   ]
  },
  {
   "cell_type": "code",
   "execution_count": 14,
   "metadata": {},
   "outputs": [],
   "source": [
    "dataProc.AllData['Sex'] = np.where(dataProc.AllData['Sex'] == 'male', 1, 2)\n",
    "submitDataProc.AllData['Sex'] = np.where(submitDataProc.AllData['Sex'] == 'male', 1, 2)"
   ]
  },
  {
   "cell_type": "code",
   "execution_count": 15,
   "metadata": {},
   "outputs": [],
   "source": [
    "embarkedEncoding = {\n",
    "    'Embarked' : {\n",
    "       'S' : 1,\n",
    "       'Q' : 1,\n",
    "       'C' : 2\n",
    "    }\n",
    "}"
   ]
  },
  {
   "cell_type": "code",
   "execution_count": 16,
   "metadata": {},
   "outputs": [],
   "source": [
    "dataProc.AllData.replace(embarkedEncoding, inplace=True)\n",
    "submitDataProc.AllData.replace(embarkedEncoding, inplace=True)"
   ]
  },
  {
   "cell_type": "code",
   "execution_count": 17,
   "metadata": {},
   "outputs": [],
   "source": [
    "numCols = ['Fare', 'Pclass', 'Parch', 'CabinType_B_D_E', 'GenderAgeGroup', 'Embarked', 'Sex']"
   ]
  },
  {
   "cell_type": "markdown",
   "metadata": {},
   "source": [
    "ageFilledInData"
   ]
  },
  {
   "cell_type": "markdown",
   "metadata": {},
   "source": [
    "dataProc.AllData['Ticket_Num_Ind'] = dataProc.AllData['Ticket'].str.isnumeric()"
   ]
  },
  {
   "cell_type": "code",
   "execution_count": 18,
   "metadata": {},
   "outputs": [],
   "source": [
    "dataProc.PopulateFeatureColumns(numCols)\n",
    "submitDataProc.PopulateFeatureColumns(numCols)"
   ]
  },
  {
   "cell_type": "code",
   "execution_count": 19,
   "metadata": {},
   "outputs": [],
   "source": [
    "dataProc.PopulateFeatureAndLabel(target)\n",
    "submitDataProc.X = submitDataProc.AllData[numCols]"
   ]
  },
  {
   "cell_type": "code",
   "execution_count": 20,
   "metadata": {},
   "outputs": [],
   "source": [
    "dataProc.RandomSplitTrainTestData(testRatio, randomSeed, False)"
   ]
  },
  {
   "cell_type": "code",
   "execution_count": 21,
   "metadata": {},
   "outputs": [],
   "source": [
    "averageFareThridClass = submitDataProc.AllData[(submitDataProc.AllData.Pclass == 3) & \n",
    "                                               (submitDataProc.AllData.CabinType == 'N')].Fare.mean()\n",
    "submitDataProc.X.Fare.fillna(averageFareThridClass, inplace=True)"
   ]
  },
  {
   "cell_type": "code",
   "execution_count": 22,
   "metadata": {},
   "outputs": [],
   "source": [
    "sortedCols = ['CabinType_B_D_E', 'Embarked', 'Fare', 'GenderAgeGroup', 'Parch', 'Pclass', 'Sex']"
   ]
  },
  {
   "cell_type": "markdown",
   "metadata": {},
   "source": [
    "## Random forest model"
   ]
  },
  {
   "cell_type": "code",
   "execution_count": 23,
   "metadata": {},
   "outputs": [],
   "source": [
    "preProc = ColumnTransformer([\n",
    "    #('StdScaler', StandardScaler(), numCols),\n",
    "    #('OneHot', OneHotEncoder(handle_unknown='ignore'), catCols)\n",
    "])\n",
    "rf = RandomForestClassifier(random_state = randomSeed)\n",
    "rfpipeline = Pipeline([#('preProcessing', preProc),\n",
    "                       #('ReduceDim', SelectKBest(f_classif)),\n",
    "                       ('rf', rf)])\n",
    "params = {\n",
    "   # 'ReduceDim__k' : range(5, 11),\n",
    "    'rf__n_estimators' : range(3, 20),\n",
    "    'rf__max_depth' : range(1, 5),\n",
    "    'rf__max_features' : ['sqrt', 'log2', None]\n",
    "}\n",
    "rfcv = RandomizedSearchCV(rfpipeline, n_iter= 1000, scoring = 'accuracy', \n",
    "                          param_distributions=params, verbose=1, cv = 10, n_jobs = numCores, random_state=randomSeed)"
   ]
  },
  {
   "cell_type": "markdown",
   "metadata": {},
   "source": [
    "## XGB model"
   ]
  },
  {
   "cell_type": "code",
   "execution_count": 24,
   "metadata": {},
   "outputs": [],
   "source": [
    "param_grid = {\n",
    "    'xgb__max_depth' : [3, 4, 5, 6],\n",
    "    'xgb__learning_rate' : [0.05, 0.1, 0.2],\n",
    "    'xgb__n_estimators' : range(5, 21),\n",
    "    'xgb__subsample' : [0.8, 0.9, 0.95],\n",
    "    #'xgb__colsample_bytree' : [0.8, 0.9, 0.95],\n",
    "    'xgb__reg_alpha' : [0.05, 0.1, 0.2, 0.4],\n",
    "    'xgb__reg_lambda' : [0.05, 0.1, 0.2, 0.4],\n",
    "    'xgb__gamma' : [0.0001, 0.001, 0.01, 0.1]\n",
    "}\n",
    "\n",
    "xgb = xgboost.XGBClassifier(seed=randomSeed)\n",
    "xgbpipeline = Pipeline([#('preProcessing', preProc),\n",
    "                        ('xgb', xgb)])\n",
    "xgbcv = RandomizedSearchCV(xgbpipeline, n_iter = 500, cv=10, param_distributions =param_grid,\n",
    "                        scoring='accuracy', verbose = 1, n_jobs = numCores, random_state=randomSeed)"
   ]
  },
  {
   "cell_type": "markdown",
   "metadata": {},
   "source": [
    "## Model stacking"
   ]
  },
  {
   "cell_type": "code",
   "execution_count": 25,
   "metadata": {},
   "outputs": [
    {
     "name": "stderr",
     "output_type": "stream",
     "text": [
      "[MLENS] backend: threading\n"
     ]
    },
    {
     "data": {
      "text/plain": [
       "BlendEnsemble(array_check=None, backend=None,\n",
       "       layers=[Layer(backend='threading', dtype=<class 'numpy.float32'>, n_jobs=-1,\n",
       "   name='layer-1', propagate_features=None, raise_on_exception=True,\n",
       "   random_state=None, shuffle=False,\n",
       "   stack=[Group(backend='threading', dtype=<class 'numpy.float32'>,\n",
       "   indexer=BlendIndex(X=None, raise_on_exception=...rer=None)],\n",
       "   n_jobs=-1, name='group-1', raise_on_exception=True, transformers=[])],\n",
       "   verbose=0)],\n",
       "       model_selection=False, n_jobs=None, raise_on_exception=True,\n",
       "       random_state=None, sample_size=20, scorer=None, shuffle=False,\n",
       "       test_size=0.5, verbose=False)"
      ]
     },
     "execution_count": 25,
     "metadata": {},
     "output_type": "execute_result"
    }
   ],
   "source": [
    "from mlens.ensemble import BlendEnsemble\n",
    "from sklearn.linear_model import LogisticRegression\n",
    "from sklearn.ensemble import RandomForestClassifier\n",
    "from sklearn.svm import SVC\n",
    "\n",
    "estimators = [rfcv, xgbcv]\n",
    "ensemble = BlendEnsemble()\n",
    "ensemble.add(estimators, proba=True)   # Specify 'proba' here\n",
    "ensemble.add_meta(LogisticRegression())"
   ]
  },
  {
   "cell_type": "code",
   "execution_count": 26,
   "metadata": {},
   "outputs": [
    {
     "name": "stdout",
     "output_type": "stream",
     "text": [
      "Fitting 10 folds for each of 204 candidates, totalling 2040 fitsFitting 10 folds for each of 204 candidates, totalling 2040 fits\n",
      "\n",
      "Fitting 10 folds for each of 500 candidates, totalling 5000 fits\n",
      "Fitting 10 folds for each of 500 candidates, totalling 5000 fits\n"
     ]
    },
    {
     "name": "stderr",
     "output_type": "stream",
     "text": [
      "[Parallel(n_jobs=10)]: Using backend SequentialBackend with 1 concurrent workers.\n",
      "[Parallel(n_jobs=10)]: Using backend SequentialBackend with 1 concurrent workers.\n",
      "[Parallel(n_jobs=10)]: Using backend SequentialBackend with 1 concurrent workers.\n",
      "[Parallel(n_jobs=10)]: Using backend SequentialBackend with 1 concurrent workers.\n",
      "[Parallel(n_jobs=10)]: Done 2040 out of 2040 | elapsed:  2.2min finished\n",
      "[Parallel(n_jobs=10)]: Done 5000 out of 5000 | elapsed:  2.7min finished\n",
      "[Parallel(n_jobs=10)]: Done 2040 out of 2040 | elapsed:  2.7min finished\n",
      "[Parallel(n_jobs=10)]: Done 5000 out of 5000 | elapsed:  3.0min finished\n"
     ]
    },
    {
     "data": {
      "text/plain": [
       "BlendEnsemble(array_check=None, backend=None,\n",
       "       layers=[Layer(backend='threading', dtype=<class 'numpy.float32'>, n_jobs=-1,\n",
       "   name='layer-1', propagate_features=None, raise_on_exception=True,\n",
       "   random_state=None, shuffle=False,\n",
       "   stack=[Group(backend='threading', dtype=<class 'numpy.float32'>,\n",
       "   indexer=BlendIndex(X=None, raise_on_exception=...rer=None)],\n",
       "   n_jobs=-1, name='group-1', raise_on_exception=True, transformers=[])],\n",
       "   verbose=0)],\n",
       "       model_selection=False, n_jobs=None, raise_on_exception=True,\n",
       "       random_state=None, sample_size=20, scorer=None, shuffle=False,\n",
       "       test_size=0.5, verbose=False)"
      ]
     },
     "execution_count": 26,
     "metadata": {},
     "output_type": "execute_result"
    }
   ],
   "source": [
    "ensemble.fit(dataProc.X_train.reindex(columns=sortedCols), dataProc.y_train)"
   ]
  },
  {
   "cell_type": "code",
   "execution_count": 27,
   "metadata": {},
   "outputs": [
    {
     "name": "stdout",
     "output_type": "stream",
     "text": [
      "Stacking Random Forest and XGB 0.809 \n"
     ]
    }
   ],
   "source": [
    "y_test_stacking_pred = ensemble.predict(dataProc.X_test.reindex(columns=sortedCols))\n",
    "print('Stacking Random Forest and XGB %.3f ' % accuracy_score(dataProc.y_test, y_test_stacking_pred))"
   ]
  },
  {
   "cell_type": "code",
   "execution_count": 31,
   "metadata": {},
   "outputs": [],
   "source": [
    "submitDataProc.AllData[target] = ensemble.predict(submitDataProc.X.reindex(columns=sortedCols)).astype('int')\n",
    "submitDataProc.AllData[['PassengerId', 'Survived']].to_csv('Output/submit.txt', index=False)"
   ]
  },
  {
   "cell_type": "code",
   "execution_count": null,
   "metadata": {},
   "outputs": [],
   "source": []
  }
 ],
 "metadata": {
  "kernelspec": {
   "display_name": "Python 3",
   "language": "python",
   "name": "python3"
  },
  "language_info": {
   "codemirror_mode": {
    "name": "ipython",
    "version": 3
   },
   "file_extension": ".py",
   "mimetype": "text/x-python",
   "name": "python",
   "nbconvert_exporter": "python",
   "pygments_lexer": "ipython3",
   "version": "3.6.7"
  }
 },
 "nbformat": 4,
 "nbformat_minor": 2
}
