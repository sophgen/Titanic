{
 "cells": [
  {
   "cell_type": "code",
   "execution_count": 1,
   "metadata": {},
   "outputs": [],
   "source": [
    "def warn(*args, **kwargs):\n",
    "    pass\n",
    "import warnings\n",
    "warnings.warn = warn"
   ]
  },
  {
   "cell_type": "code",
   "execution_count": 2,
   "metadata": {},
   "outputs": [],
   "source": [
    "import pandas as pd\n",
    "import numpy as np\n",
    "import imp\n",
    "import matplotlib.pyplot as plt\n",
    "import xgboost\n",
    "from sklearn.compose import ColumnTransformer, make_column_transformer\n",
    "from sklearn.preprocessing import StandardScaler\n",
    "from sklearn.preprocessing import OneHotEncoder\n",
    "from sklearn.pipeline import Pipeline\n",
    "from sklearn.feature_selection import *\n",
    "from sklearn.ensemble import RandomForestClassifier\n",
    "from sklearn.model_selection import RandomizedSearchCV\n",
    "from sklearn.model_selection import GridSearchCV\n",
    "from sklearn.linear_model import LogisticRegression\n",
    "from sklearn.metrics import accuracy_score, f1_score\n",
    "from sklearn.cluster import KMeans\n",
    "from yellowbrick.cluster import KElbowVisualizer\n",
    "from sklearn.decomposition import PCA\n",
    "from sklearn.preprocessing import PolynomialFeatures\n",
    "from sklearn.svm import SVC\n",
    "import seaborn as sns\n",
    "%matplotlib inline\n",
    "from HelperClass.DataProcessing import *"
   ]
  },
  {
   "cell_type": "code",
   "execution_count": 3,
   "metadata": {},
   "outputs": [],
   "source": [
    "trainDataFile = 'Data/train.csv'\n",
    "testDataFile = 'Data/test.csv'\n",
    "dataTypes = {\n",
    "    'PassengerId' : 'int64',\n",
    "    'Survived' : 'int64',\n",
    "    'Pclass' : 'int64',\n",
    "    'Name' : 'object',\n",
    "    'Sex' : 'object',\n",
    "    'Age' : 'float64',\n",
    "    'SibSp' : 'int64',\n",
    "    'Parch' : 'int64',\n",
    "    'Ticket' : 'object',\n",
    "    'Fare' : 'float64',\n",
    "    'Cabin' : 'object',\n",
    "    'Embarked' : 'object'\n",
    "}\n",
    "sep = ','\n",
    "target = 'Survived'\n",
    "clusterIdCol = 'PassagerClusterId'\n",
    "randomSeed = 83213\n",
    "testRatio = 0.20\n",
    "numCores = 7"
   ]
  },
  {
   "cell_type": "markdown",
   "metadata": {},
   "source": [
    "## Reading data"
   ]
  },
  {
   "cell_type": "code",
   "execution_count": 4,
   "metadata": {},
   "outputs": [],
   "source": [
    "dataProc = DataProcessing(trainDataFile, dataTypes, sep)\n",
    "dataProc.ReadFile()\n",
    "### Here we remove nulls since there were only 2 records that has null in the field\n",
    "dataProc.AllData = dataProc.AllData[~dataProc.AllData.Embarked.isnull()]\n",
    "\n",
    "submitDataProc = DataProcessing(testDataFile, dataTypes, sep)\n",
    "submitDataProc.ReadFile()"
   ]
  },
  {
   "cell_type": "markdown",
   "metadata": {},
   "source": [
    "Findings\n",
    "1. Age makes difference, F_onewayResult(statistic=4.271194933815904, pvalue=0.03912465401348333)\n",
    "2. Fare makes difference, F_onewayResult(statistic=63.03076422804448, pvalue=6.120189341921873e-15)\n",
    "3. PassengerId doesn't make difference, F_onewayResult(statistic=0.022284812266068058, pvalue=0.8813657768798144)\n",
    "4. Pclass makes difference, F_onewayResult(statistic=115.03127218827665, pvalue=2.5370473879805644e-25)\n",
    "5. SibSp doesn't make difference, F_onewayResult(statistic=1.110572204113227, pvalue=0.29224392869817906)\n",
    "6. Parch makes difference, F_onewayResult(statistic=5.963463836603541, pvalue=0.0147992453747224)"
   ]
  },
  {
   "cell_type": "markdown",
   "metadata": {},
   "source": [
    "## Feature generation and encoding"
   ]
  },
  {
   "cell_type": "code",
   "execution_count": 5,
   "metadata": {},
   "outputs": [],
   "source": [
    "def PopulateFeatures(data):\n",
    "    data.Cabin.fillna('NA', inplace=True)\n",
    "    data['CabinType'] = data.Cabin.fillna('NA').str.get(0)\n",
    "    return data"
   ]
  },
  {
   "cell_type": "code",
   "execution_count": 6,
   "metadata": {},
   "outputs": [],
   "source": [
    "dataProc.AllData = PopulateFeatures(dataProc.AllData)\n",
    "submitDataProc.AllData = PopulateFeatures(submitDataProc.AllData)"
   ]
  },
  {
   "cell_type": "code",
   "execution_count": 7,
   "metadata": {},
   "outputs": [],
   "source": [
    "dataProc.AllData['CabinType_B_D_E'] = np.where(dataProc.AllData.CabinType.isin(['B', 'D', 'E']), 2, 1)\n",
    "submitDataProc.AllData['CabinType_B_D_E'] = np.where(submitDataProc.AllData.CabinType.isin(['B', 'D', 'E']), 2, 1)"
   ]
  },
  {
   "cell_type": "code",
   "execution_count": 8,
   "metadata": {},
   "outputs": [],
   "source": [
    "dataProc.AllData.Age.fillna(-999, inplace=True)\n",
    "submitDataProc.AllData.Age.fillna(-999, inplace=True)"
   ]
  },
  {
   "cell_type": "code",
   "execution_count": 9,
   "metadata": {},
   "outputs": [],
   "source": [
    "bins = [-10000, 0, 20, 60, 1000]\n",
    "dataProc.AllData['AgeGroup'] = pd.cut(dataProc.AllData.Age, bins).astype(str)\n",
    "submitDataProc.AllData['AgeGroup'] = pd.cut(submitDataProc.AllData.Age, bins).astype(str)"
   ]
  },
  {
   "cell_type": "code",
   "execution_count": 10,
   "metadata": {},
   "outputs": [],
   "source": [
    "dataProc.AllData['GenderAgeGroup'] = dataProc.AllData.Sex + '_' + dataProc.AllData.AgeGroup\n",
    "submitDataProc.AllData['GenderAgeGroup'] = submitDataProc.AllData.Sex + '_' + submitDataProc.AllData.AgeGroup"
   ]
  },
  {
   "cell_type": "code",
   "execution_count": 11,
   "metadata": {},
   "outputs": [
    {
     "data": {
      "text/html": [
       "<div>\n",
       "<style scoped>\n",
       "    .dataframe tbody tr th:only-of-type {\n",
       "        vertical-align: middle;\n",
       "    }\n",
       "\n",
       "    .dataframe tbody tr th {\n",
       "        vertical-align: top;\n",
       "    }\n",
       "\n",
       "    .dataframe thead tr th {\n",
       "        text-align: left;\n",
       "    }\n",
       "\n",
       "    .dataframe thead tr:last-of-type th {\n",
       "        text-align: right;\n",
       "    }\n",
       "</style>\n",
       "<table border=\"1\" class=\"dataframe\">\n",
       "  <thead>\n",
       "    <tr>\n",
       "      <th></th>\n",
       "      <th colspan=\"2\" halign=\"left\">Survived</th>\n",
       "    </tr>\n",
       "    <tr>\n",
       "      <th></th>\n",
       "      <th>mean</th>\n",
       "      <th>count</th>\n",
       "    </tr>\n",
       "    <tr>\n",
       "      <th>GenderAgeGroup</th>\n",
       "      <th></th>\n",
       "      <th></th>\n",
       "    </tr>\n",
       "  </thead>\n",
       "  <tbody>\n",
       "    <tr>\n",
       "      <th>female_(60, 1000]</th>\n",
       "      <td>1.000000</td>\n",
       "      <td>2</td>\n",
       "    </tr>\n",
       "    <tr>\n",
       "      <th>female_(20, 60]</th>\n",
       "      <td>0.777778</td>\n",
       "      <td>180</td>\n",
       "    </tr>\n",
       "    <tr>\n",
       "      <th>female_(0, 20]</th>\n",
       "      <td>0.688312</td>\n",
       "      <td>77</td>\n",
       "    </tr>\n",
       "    <tr>\n",
       "      <th>female_(-10000, 0]</th>\n",
       "      <td>0.679245</td>\n",
       "      <td>53</td>\n",
       "    </tr>\n",
       "    <tr>\n",
       "      <th>male_(0, 20]</th>\n",
       "      <td>0.284314</td>\n",
       "      <td>102</td>\n",
       "    </tr>\n",
       "    <tr>\n",
       "      <th>male_(20, 60]</th>\n",
       "      <td>0.186747</td>\n",
       "      <td>332</td>\n",
       "    </tr>\n",
       "    <tr>\n",
       "      <th>male_(-10000, 0]</th>\n",
       "      <td>0.129032</td>\n",
       "      <td>124</td>\n",
       "    </tr>\n",
       "    <tr>\n",
       "      <th>male_(60, 1000]</th>\n",
       "      <td>0.105263</td>\n",
       "      <td>19</td>\n",
       "    </tr>\n",
       "  </tbody>\n",
       "</table>\n",
       "</div>"
      ],
      "text/plain": [
       "                    Survived      \n",
       "                        mean count\n",
       "GenderAgeGroup                    \n",
       "female_(60, 1000]   1.000000     2\n",
       "female_(20, 60]     0.777778   180\n",
       "female_(0, 20]      0.688312    77\n",
       "female_(-10000, 0]  0.679245    53\n",
       "male_(0, 20]        0.284314   102\n",
       "male_(20, 60]       0.186747   332\n",
       "male_(-10000, 0]    0.129032   124\n",
       "male_(60, 1000]     0.105263    19"
      ]
     },
     "execution_count": 11,
     "metadata": {},
     "output_type": "execute_result"
    }
   ],
   "source": [
    "dataProc.AllData.groupby(['GenderAgeGroup']).agg({'Survived' : ['mean', 'count']}).sort_values(by=('Survived', 'mean'), \n",
    "                                                                                               ascending=False)"
   ]
  },
  {
   "cell_type": "code",
   "execution_count": 12,
   "metadata": {},
   "outputs": [],
   "source": [
    "genderAgeGroups = {\n",
    "    'GenderAgeGroup' : {\n",
    "        'female_(20, 60]' : 7, \n",
    "        'female_(60, 1000]' : 8,\n",
    "        'female_(0, 20]' : 6, \n",
    "        'female_(-10000, 0]' : 5,\n",
    "        'male_(0, 20]' : 4, \n",
    "        'male_(20, 60]' : 3, \n",
    "        'male_(-10000, 0]' : 2, \n",
    "        'male_(60, 1000]' : 1\n",
    "    }\n",
    "}"
   ]
  },
  {
   "cell_type": "code",
   "execution_count": 13,
   "metadata": {},
   "outputs": [],
   "source": [
    "dataProc.AllData.replace(genderAgeGroups, inplace=True)\n",
    "submitDataProc.AllData.replace(genderAgeGroups, inplace=True)"
   ]
  },
  {
   "cell_type": "code",
   "execution_count": 14,
   "metadata": {},
   "outputs": [],
   "source": [
    "dataProc.AllData['Sex'] = np.where(dataProc.AllData['Sex'] == 'male', 1, 2)\n",
    "submitDataProc.AllData['Sex'] = np.where(submitDataProc.AllData['Sex'] == 'male', 1, 2)"
   ]
  },
  {
   "cell_type": "code",
   "execution_count": 15,
   "metadata": {},
   "outputs": [],
   "source": [
    "embarkedEncoding = {\n",
    "    'Embarked' : {\n",
    "       'S' : 1,\n",
    "       'Q' : 1,\n",
    "       'C' : 2\n",
    "    }\n",
    "}"
   ]
  },
  {
   "cell_type": "code",
   "execution_count": 16,
   "metadata": {},
   "outputs": [],
   "source": [
    "dataProc.AllData.replace(embarkedEncoding, inplace=True)\n",
    "submitDataProc.AllData.replace(embarkedEncoding, inplace=True)"
   ]
  },
  {
   "cell_type": "code",
   "execution_count": 17,
   "metadata": {},
   "outputs": [],
   "source": [
    "numCols = ['Fare', 'Pclass', 'Parch', 'CabinType_B_D_E', 'GenderAgeGroup', 'Embarked', 'Sex']"
   ]
  },
  {
   "cell_type": "markdown",
   "metadata": {},
   "source": [
    "## Use clustering approach to group passagers"
   ]
  },
  {
   "cell_type": "code",
   "execution_count": 18,
   "metadata": {},
   "outputs": [],
   "source": [
    "columnsToFindCluster = ['Pclass', 'GenderAgeGroup', 'Parch']"
   ]
  },
  {
   "cell_type": "code",
   "execution_count": 19,
   "metadata": {},
   "outputs": [],
   "source": [
    "from sklearn.preprocessing import StandardScaler\n",
    "scaler = StandardScaler()\n",
    "trainingCopy = dataProc.AllData[columnsToFindCluster]\n",
    "trainingCopy = scaler.fit_transform(trainingCopy)\n",
    "submitDataCopy = scaler.transform(submitDataProc.AllData[columnsToFindCluster])"
   ]
  },
  {
   "cell_type": "code",
   "execution_count": 20,
   "metadata": {},
   "outputs": [],
   "source": [
    "trainingCopy[:, 0] = trainingCopy[:, 0] * 10\n",
    "trainingCopy[:, 1] = trainingCopy[:, 1] * 5\n",
    "trainingCopy[:, 2] = trainingCopy[:, 2]  \n",
    "\n",
    "submitDataCopy[:, 0] = submitDataCopy[:, 0] * 10\n",
    "submitDataCopy[:, 1] = submitDataCopy[:, 1] * 5\n",
    "submitDataCopy[:, 2] = submitDataCopy[:, 2]"
   ]
  },
  {
   "cell_type": "code",
   "execution_count": 21,
   "metadata": {},
   "outputs": [
    {
     "data": {
      "image/png": "[encoded data removed]",
      "text/plain": [
       "<Figure size 432x288 with 2 Axes>"
      ]
     },
     "metadata": {},
     "output_type": "display_data"
    }
   ],
   "source": [
    "kmeans = KMeans()\n",
    "visualizer = KElbowVisualizer(kmeans, k=(4,20))\n",
    "visualizer.fit(trainingCopy) \n",
    "visualizer.poof()"
   ]
  },
  {
   "cell_type": "code",
   "execution_count": 22,
   "metadata": {},
   "outputs": [],
   "source": [
    "kmeans = KMeans(n_clusters=6, random_state=randomSeed).fit(trainingCopy)"
   ]
  },
  {
   "cell_type": "code",
   "execution_count": 23,
   "metadata": {},
   "outputs": [],
   "source": [
    "numCols.append(clusterIdCol)"
   ]
  },
  {
   "cell_type": "code",
   "execution_count": null,
   "metadata": {},
   "outputs": [],
   "source": [
    "dataProc.AllData[clusterIdCol] = kmeans.labels_.astype(str)"
   ]
  },
  {
   "cell_type": "code",
   "execution_count": null,
   "metadata": {},
   "outputs": [
    {
     "data": {
      "text/plain": [
       "PassagerClusterId\n",
       "4    0.135447\n",
       "0    0.157407\n",
       "3    0.368852\n",
       "1    0.500000\n",
       "5    0.921053\n",
       "2    0.967391\n",
       "Name: Survived, dtype: float64"
      ]
     },
     "execution_count": 25,
     "metadata": {},
     "output_type": "execute_result"
    }
   ],
   "source": [
    "dataProc.AllData.groupby([clusterIdCol])[target].mean().sort_values()"
   ]
  },
  {
   "cell_type": "code",
   "execution_count": null,
   "metadata": {},
   "outputs": [],
   "source": [
    "submitDataProc.AllData[clusterIdCol] = kmeans.predict(submitDataCopy).astype(str)"
   ]
  },
  {
   "cell_type": "code",
   "execution_count": null,
   "metadata": {},
   "outputs": [
    {
     "data": {
      "text/html": [
       "<div>\n",
       "<style scoped>\n",
       "    .dataframe tbody tr th:only-of-type {\n",
       "        vertical-align: middle;\n",
       "    }\n",
       "\n",
       "    .dataframe tbody tr th {\n",
       "        vertical-align: top;\n",
       "    }\n",
       "\n",
       "    .dataframe thead th {\n",
       "        text-align: right;\n",
       "    }\n",
       "</style>\n",
       "<table border=\"1\" class=\"dataframe\">\n",
       "  <thead>\n",
       "    <tr style=\"text-align: right;\">\n",
       "      <th></th>\n",
       "      <th>PassengerId</th>\n",
       "      <th>Pclass</th>\n",
       "      <th>Name</th>\n",
       "      <th>Sex</th>\n",
       "      <th>Age</th>\n",
       "      <th>SibSp</th>\n",
       "      <th>Parch</th>\n",
       "      <th>Ticket</th>\n",
       "      <th>Fare</th>\n",
       "      <th>Cabin</th>\n",
       "      <th>Embarked</th>\n",
       "      <th>CabinType</th>\n",
       "      <th>CabinType_B_D_E</th>\n",
       "      <th>AgeGroup</th>\n",
       "      <th>GenderAgeGroup</th>\n",
       "      <th>PassagerClusterId</th>\n",
       "    </tr>\n",
       "  </thead>\n",
       "  <tbody>\n",
       "    <tr>\n",
       "      <th>152</th>\n",
       "      <td>1044</td>\n",
       "      <td>3</td>\n",
       "      <td>Storey, Mr. Thomas</td>\n",
       "      <td>1</td>\n",
       "      <td>60.5</td>\n",
       "      <td>0</td>\n",
       "      <td>0</td>\n",
       "      <td>3701</td>\n",
       "      <td>NaN</td>\n",
       "      <td>NA</td>\n",
       "      <td>1</td>\n",
       "      <td>N</td>\n",
       "      <td>1</td>\n",
       "      <td>(60, 1000]</td>\n",
       "      <td>1</td>\n",
       "      <td>4</td>\n",
       "    </tr>\n",
       "  </tbody>\n",
       "</table>\n",
       "</div>"
      ],
      "text/plain": [
       "     PassengerId  Pclass                Name  Sex   Age  SibSp  Parch Ticket  \\\n",
       "152         1044       3  Storey, Mr. Thomas    1  60.5      0      0   3701   \n",
       "\n",
       "     Fare Cabin  Embarked CabinType  CabinType_B_D_E    AgeGroup  \\\n",
       "152   NaN    NA         1         N                1  (60, 1000]   \n",
       "\n",
       "     GenderAgeGroup PassagerClusterId  \n",
       "152               1                 4  "
      ]
     },
     "execution_count": 27,
     "metadata": {},
     "output_type": "execute_result"
    }
   ],
   "source": [
    "submitDataProc.AllData[submitDataProc.AllData.Fare.isnull()]"
   ]
  },
  {
   "cell_type": "code",
   "execution_count": null,
   "metadata": {},
   "outputs": [],
   "source": [
    "averageFare = submitDataProc.AllData[submitDataProc.AllData.PassagerClusterId == '4'].Fare.mean()\n",
    "submitDataProc.AllData.Fare.fillna(averageFare, inplace=True)"
   ]
  },
  {
   "cell_type": "code",
   "execution_count": null,
   "metadata": {},
   "outputs": [],
   "source": [
    "clusterMapping = {\n",
    "    clusterIdCol : {\n",
    "        '4' : 1,\n",
    "        '0' : 1,\n",
    "        '3' : 2,\n",
    "        '1' : 4,\n",
    "        '5' : 6,\n",
    "        '2' : 6,\n",
    "    }\n",
    "}"
   ]
  },
  {
   "cell_type": "code",
   "execution_count": null,
   "metadata": {
    "scrolled": true
   },
   "outputs": [],
   "source": [
    "dataProc.AllData.replace(clusterMapping, inplace=True)\n",
    "submitDataProc.AllData.replace(clusterMapping, inplace=True)"
   ]
  },
  {
   "cell_type": "code",
   "execution_count": null,
   "metadata": {},
   "outputs": [],
   "source": [
    "dataProc.PopulateFeatureColumns(numCols)\n",
    "submitDataProc.PopulateFeatureColumns(numCols)"
   ]
  },
  {
   "cell_type": "code",
   "execution_count": null,
   "metadata": {},
   "outputs": [],
   "source": [
    "dataProc.y = dataProc.AllData[target]"
   ]
  },
  {
   "cell_type": "code",
   "execution_count": null,
   "metadata": {},
   "outputs": [],
   "source": [
    "dataProc.RandomSplitTrainTestData(testRatio, randomSeed, True)"
   ]
  },
  {
   "cell_type": "code",
   "execution_count": null,
   "metadata": {},
   "outputs": [
    {
     "data": {
      "text/plain": [
       "Fare                 float64\n",
       "Pclass                 int64\n",
       "Parch                  int64\n",
       "CabinType_B_D_E        int32\n",
       "GenderAgeGroup         int64\n",
       "Embarked               int64\n",
       "Sex                    int32\n",
       "PassagerClusterId      int64\n",
       "dtype: object"
      ]
     },
     "execution_count": 34,
     "metadata": {},
     "output_type": "execute_result"
    }
   ],
   "source": [
    "dataProc.X.dtypes"
   ]
  },
  {
   "cell_type": "code",
   "execution_count": null,
   "metadata": {},
   "outputs": [],
   "source": [
    "preProc = ColumnTransformer([\n",
    "    ('StdScaler', StandardScaler(), numCols)\n",
    "])"
   ]
  },
  {
   "cell_type": "markdown",
   "metadata": {},
   "source": [
    "## Random forest model"
   ]
  },
  {
   "cell_type": "code",
   "execution_count": null,
   "metadata": {},
   "outputs": [],
   "source": [
    "rf = RandomForestClassifier(random_state = randomSeed, n_jobs=numCores)\n",
    "rfpipeline = Pipeline([('preProc', preProc),\n",
    "                       ('poly', PolynomialFeatures()),\n",
    "                       #('ReduceDim', SelectKBest(f_classif)),\n",
    "                       ('rf', rf)])\n",
    "params = {\n",
    "    'poly__degree' : [1, 2],\n",
    "    'rf__n_estimators' : range(10, 20),\n",
    "    'rf__max_depth' : range(1, 5),\n",
    "    'rf__max_features' : ['sqrt', 'log2', None]\n",
    "}\n",
    "rfcv = RandomizedSearchCV(rfpipeline, n_iter= 180, scoring = 'accuracy', \n",
    "                          param_distributions=params, verbose=1, cv = 2, random_state=randomSeed)"
   ]
  },
  {
   "cell_type": "code",
   "execution_count": null,
   "metadata": {},
   "outputs": [],
   "source": [
    "#rfcv.fit(dataProc.X_train, dataProc.y_train)"
   ]
  },
  {
   "cell_type": "code",
   "execution_count": null,
   "metadata": {},
   "outputs": [],
   "source": [
    "#rfcv.best_params_"
   ]
  },
  {
   "cell_type": "code",
   "execution_count": null,
   "metadata": {},
   "outputs": [],
   "source": [
    "#y_train_stacking_pred = rfcv.predict(dataProc.X_train)\n",
    "#print('Stacking %.3f ' % accuracy_score(dataProc.y_train, y_train_stacking_pred))\n",
    "#\n",
    "#y_test_stacking_pred = rfcv.predict(dataProc.X_test)\n",
    "#print('Stacking %.3f ' % accuracy_score(dataProc.y_test, y_test_stacking_pred))"
   ]
  },
  {
   "cell_type": "markdown",
   "metadata": {},
   "source": [
    "## XGB model"
   ]
  },
  {
   "cell_type": "code",
   "execution_count": null,
   "metadata": {},
   "outputs": [],
   "source": [
    "param_grid = {\n",
    "    'poly__degree' : [1, 2],\n",
    "    'xgb__max_depth' : [3, 4, 5, 6],\n",
    "    'xgb__learning_rate' : [0.05, 0.1, 0.2],\n",
    "    'xgb__n_estimators' : range(5, 21),\n",
    "    'xgb__subsample' : [0.8, 0.9, 0.95],\n",
    "    'xgb__colsample_bytree' : [0.8, 0.9, 0.95],\n",
    "    'xgb__reg_alpha' : [0.05, 0.1, 0.2, 0.4],\n",
    "    'xgb__reg_lambda' : [0.05, 0.1, 0.2, 0.4],\n",
    "    'xgb__gamma' : [0.0001, 0.001, 0.01, 0.1]\n",
    "}\n",
    "\n",
    "xgb = xgboost.XGBClassifier(seed=randomSeed, n_jobs=numCores)\n",
    "xgbpipeline = Pipeline([('preProc', preProc),\n",
    "                        ('poly', PolynomialFeatures()),\n",
    "                        ('xgb', xgb)])\n",
    "xgbcv = RandomizedSearchCV(xgbpipeline, n_iter = 200, cv=5, param_distributions =param_grid, \n",
    "                           scoring='accuracy', verbose = 1, random_state=randomSeed)"
   ]
  },
  {
   "cell_type": "code",
   "execution_count": null,
   "metadata": {},
   "outputs": [],
   "source": [
    "#xgbcv.fit(dataProc.X_train, dataProc.y_train)"
   ]
  },
  {
   "cell_type": "code",
   "execution_count": null,
   "metadata": {},
   "outputs": [],
   "source": [
    "#xgbcv.best_params_"
   ]
  },
  {
   "cell_type": "code",
   "execution_count": null,
   "metadata": {},
   "outputs": [],
   "source": [
    "#y_train_stacking_pred = xgbcv.predict(dataProc.X_train)\n",
    "#print('Stacking %.3f ' % accuracy_score(dataProc.y_train, y_train_stacking_pred))\n",
    "#\n",
    "#y_test_stacking_pred = xgbcv.predict(dataProc.X_test)\n",
    "#print('Stacking %.3f ' % accuracy_score(dataProc.y_test, y_test_stacking_pred))"
   ]
  },
  {
   "cell_type": "markdown",
   "metadata": {},
   "source": [
    "## AdaBoost"
   ]
  },
  {
   "cell_type": "code",
   "execution_count": null,
   "metadata": {},
   "outputs": [],
   "source": [
    "from sklearn.ensemble import AdaBoostClassifier\n",
    "param_grid = {\n",
    "    'ada__learning_rate' : [0.01, 0.05, 0.1, 0.2, 0.4, 0.6, 0.8],\n",
    "    'ada__n_estimators' : range(5, 150)\n",
    "}\n",
    "ada = AdaBoostClassifier(random_state=randomSeed)\n",
    "adapipeline = Pipeline([('ada', ada)])\n",
    "adacv = RandomizedSearchCV(adapipeline, n_iter = 220, cv=5, param_distributions =param_grid,\n",
    "                           scoring='accuracy', verbose = 1, random_state=randomSeed)"
   ]
  },
  {
   "cell_type": "code",
   "execution_count": null,
   "metadata": {},
   "outputs": [],
   "source": [
    "#adacv.fit(dataProc.X_train, dataProc.y_train)"
   ]
  },
  {
   "cell_type": "code",
   "execution_count": null,
   "metadata": {},
   "outputs": [],
   "source": [
    "#adacv.best_params_"
   ]
  },
  {
   "cell_type": "code",
   "execution_count": null,
   "metadata": {},
   "outputs": [],
   "source": [
    "#y_train_stacking_pred = adacv.predict(dataProc.X_train)\n",
    "#print('Stacking %.3f ' % accuracy_score(dataProc.y_train, y_train_stacking_pred))\n",
    "#\n",
    "#y_test_stacking_pred = adacv.predict(dataProc.X_test)\n",
    "#print('Stacking %.3f ' % accuracy_score(dataProc.y_test, y_test_stacking_pred))"
   ]
  },
  {
   "cell_type": "markdown",
   "metadata": {},
   "source": [
    "## Logistic regression"
   ]
  },
  {
   "cell_type": "code",
   "execution_count": null,
   "metadata": {},
   "outputs": [],
   "source": [
    "from sklearn import linear_model\n",
    "param_grid = {\n",
    "    'poly__degree' : [1, 2],\n",
    "    'lr__penalty' : ['l1', 'l2'],\n",
    "    'lr__C' : np.logspace(0, 4, 6)\n",
    "}\n",
    "\n",
    "logistic = linear_model.LogisticRegression(n_jobs = numCores)\n",
    "logisticPipeline = Pipeline([('poly', PolynomialFeatures()), \n",
    "                             ('lr', logistic)])\n",
    "logisticCV = GridSearchCV(logisticPipeline, param_grid, cv=5, verbose=1) "
   ]
  },
  {
   "cell_type": "code",
   "execution_count": null,
   "metadata": {},
   "outputs": [],
   "source": [
    "#logisticCV.fit(dataProc.X_train, dataProc.y_train)"
   ]
  },
  {
   "cell_type": "code",
   "execution_count": null,
   "metadata": {},
   "outputs": [],
   "source": [
    "#logisticCV.best_params_"
   ]
  },
  {
   "cell_type": "code",
   "execution_count": null,
   "metadata": {},
   "outputs": [],
   "source": [
    "#y_train_stacking_pred = logisticCV.predict(dataProc.X_train)\n",
    "#print('Stacking %.3f ' % accuracy_score(dataProc.y_train, y_train_stacking_pred))\n",
    "#\n",
    "#y_test_stacking_pred = logisticCV.predict(dataProc.X_test)\n",
    "#print('Stacking %.3f ' % accuracy_score(dataProc.y_test, y_test_stacking_pred))"
   ]
  },
  {
   "cell_type": "markdown",
   "metadata": {},
   "source": [
    "## SVC "
   ]
  },
  {
   "cell_type": "code",
   "execution_count": null,
   "metadata": {},
   "outputs": [],
   "source": [
    "svc = SVC(gamma='auto', random_state = randomSeed)"
   ]
  },
  {
   "cell_type": "markdown",
   "metadata": {},
   "source": [
    "## Model stacking"
   ]
  },
  {
   "cell_type": "code",
   "execution_count": null,
   "metadata": {
    "scrolled": false
   },
   "outputs": [
    {
     "name": "stderr",
     "output_type": "stream",
     "text": [
      "[MLENS] backend: threading\n"
     ]
    },
    {
     "data": {
      "text/plain": [
       "SuperLearner(array_check=None, backend=None, folds=3,\n",
       "       layers=[Layer(backend='threading', dtype=<class 'numpy.float32'>, n_jobs=-1,\n",
       "   name='layer-1', propagate_features=None, raise_on_exception=True,\n",
       "   random_state=4761, shuffle=False,\n",
       "   stack=[Group(backend='threading', dtype=<class 'numpy.float32'>,\n",
       "   indexer=FoldIndex(X=None, folds=3, raise_on_ex...3D2D6A8>)],\n",
       "   n_jobs=-1, name='group-1', raise_on_exception=True, transformers=[])],\n",
       "   verbose=0)],\n",
       "       model_selection=False, n_jobs=None, raise_on_exception=True,\n",
       "       random_state=83213, sample_size=20,\n",
       "       scorer=<function accuracy_score at 0x0000020B93D2D6A8>,\n",
       "       shuffle=False, verbose=1)"
      ]
     },
     "execution_count": 53,
     "metadata": {},
     "output_type": "execute_result"
    }
   ],
   "source": [
    "from mlens.ensemble import SuperLearner\n",
    "ensemble = SuperLearner(scorer=accuracy_score, random_state=randomSeed, folds = 3, verbose = 1, n_jobs = numCores)\n",
    "estimators = [rfcv, xgbcv, logisticCV, adacv]\n",
    "ensemble.add(estimators, proba=True)\n",
    "ensemble.add_meta(svc)"
   ]
  },
  {
   "cell_type": "code",
   "execution_count": null,
   "metadata": {
    "scrolled": false
   },
   "outputs": [
    {
     "name": "stdout",
     "output_type": "stream",
     "text": [
      "\n",
      "Fitting 2 layers\n"
     ]
    },
    {
     "name": "stderr",
     "output_type": "stream",
     "text": [
      "[Parallel(n_jobs=1)]: Using backend SequentialBackend with 1 concurrent workers.\n",
      "[Parallel(n_jobs=1)]: Using backend SequentialBackend with 1 concurrent workers.\n",
      "[Parallel(n_jobs=1)]: Using backend SequentialBackend with 1 concurrent workers.\n",
      "[Parallel(n_jobs=1)]: Using backend SequentialBackend with 1 concurrent workers.\n",
      "[Parallel(n_jobs=1)]: Using backend SequentialBackend with 1 concurrent workers.\n"
     ]
    },
    {
     "name": "stdout",
     "output_type": "stream",
     "text": [
      "Fitting 5 folds for each of 24 candidates, totalling 120 fits\n",
      "Fitting 5 folds for each of 24 candidates, totalling 120 fits\n",
      "Fitting 2 folds for each of 180 candidates, totalling 360 fits\n",
      "Fitting 2 folds for each of 180 candidates, totalling 360 fits\n",
      "Fitting 5 folds for each of 24 candidates, totalling 120 fitsFitting 5 folds for each of 24 candidates, totalling 120 fits\n",
      "\n",
      "Fitting 2 folds for each of 180 candidates, totalling 360 fits\n"
     ]
    },
    {
     "name": "stderr",
     "output_type": "stream",
     "text": [
      "[Parallel(n_jobs=1)]: Using backend SequentialBackend with 1 concurrent workers.\n",
      "[Parallel(n_jobs=1)]: Using backend SequentialBackend with 1 concurrent workers.\n",
      "[Parallel(n_jobs=1)]: Done 120 out of 120 | elapsed:   12.1s finished\n",
      "[Parallel(n_jobs=1)]: Using backend SequentialBackend with 1 concurrent workers.\n"
     ]
    },
    {
     "name": "stdout",
     "output_type": "stream",
     "text": [
      "Fitting 2 folds for each of 180 candidates, totalling 360 fits\n"
     ]
    },
    {
     "name": "stderr",
     "output_type": "stream",
     "text": [
      "[Parallel(n_jobs=1)]: Done 120 out of 120 | elapsed:   12.7s finished\n",
      "[Parallel(n_jobs=1)]: Using backend SequentialBackend with 1 concurrent workers.\n"
     ]
    },
    {
     "name": "stdout",
     "output_type": "stream",
     "text": [
      "Fitting 5 folds for each of 200 candidates, totalling 1000 fits\n"
     ]
    },
    {
     "name": "stderr",
     "output_type": "stream",
     "text": [
      "[Parallel(n_jobs=1)]: Done 120 out of 120 | elapsed:   21.7s finished\n"
     ]
    },
    {
     "name": "stdout",
     "output_type": "stream",
     "text": [
      "Fitting 5 folds for each of 200 candidates, totalling 1000 fits\n"
     ]
    },
    {
     "name": "stderr",
     "output_type": "stream",
     "text": [
      "[Parallel(n_jobs=1)]: Using backend SequentialBackend with 1 concurrent workers.\n",
      "[Parallel(n_jobs=1)]: Done 120 out of 120 | elapsed:   26.0s finished\n",
      "[Parallel(n_jobs=1)]: Using backend SequentialBackend with 1 concurrent workers.\n"
     ]
    },
    {
     "name": "stdout",
     "output_type": "stream",
     "text": [
      "Fitting 5 folds for each of 200 candidates, totalling 1000 fits\n"
     ]
    },
    {
     "name": "stderr",
     "output_type": "stream",
     "text": [
      "[Parallel(n_jobs=1)]: Done 360 out of 360 | elapsed:  1.2min finished\n"
     ]
    },
    {
     "name": "stdout",
     "output_type": "stream",
     "text": [
      "Fitting 5 folds for each of 200 candidates, totalling 1000 fits\n"
     ]
    },
    {
     "name": "stderr",
     "output_type": "stream",
     "text": [
      "[Parallel(n_jobs=1)]: Using backend SequentialBackend with 1 concurrent workers.\n",
      "[Parallel(n_jobs=1)]: Done 360 out of 360 | elapsed:  1.2min finished\n"
     ]
    },
    {
     "name": "stdout",
     "output_type": "stream",
     "text": [
      "Fitting 5 folds for each of 220 candidates, totalling 1100 fits\n"
     ]
    },
    {
     "name": "stderr",
     "output_type": "stream",
     "text": [
      "[Parallel(n_jobs=1)]: Using backend SequentialBackend with 1 concurrent workers.\n",
      "[Parallel(n_jobs=1)]: Done 360 out of 360 | elapsed:  1.6min finished\n"
     ]
    },
    {
     "name": "stdout",
     "output_type": "stream",
     "text": [
      "Fitting 5 folds for each of 220 candidates, totalling 1100 fits\n"
     ]
    },
    {
     "name": "stderr",
     "output_type": "stream",
     "text": [
      "[Parallel(n_jobs=1)]: Using backend SequentialBackend with 1 concurrent workers.\n",
      "[Parallel(n_jobs=1)]: Done 360 out of 360 | elapsed:  1.5min finished\n"
     ]
    },
    {
     "name": "stdout",
     "output_type": "stream",
     "text": [
      "Fitting 5 folds for each of 220 candidates, totalling 1100 fits\n"
     ]
    },
    {
     "name": "stderr",
     "output_type": "stream",
     "text": [
      "[Parallel(n_jobs=1)]: Using backend SequentialBackend with 1 concurrent workers.\n",
      "[Parallel(n_jobs=1)]: Done 1000 out of 1000 | elapsed:  1.8min finished\n",
      "[Parallel(n_jobs=1)]: Using backend SequentialBackend with 1 concurrent workers.\n"
     ]
    },
    {
     "name": "stdout",
     "output_type": "stream",
     "text": [
      "Fitting 5 folds for each of 220 candidates, totalling 1100 fits\n"
     ]
    },
    {
     "name": "stderr",
     "output_type": "stream",
     "text": [
      "[Parallel(n_jobs=1)]: Done 1000 out of 1000 | elapsed:  1.7min finished\n",
      "[Parallel(n_jobs=1)]: Done 1000 out of 1000 | elapsed:  2.2min finished\n",
      "[Parallel(n_jobs=1)]: Done 1000 out of 1000 | elapsed:  1.4min finished\n",
      "[Parallel(n_jobs=1)]: Done 1100 out of 1100 | elapsed:  6.9min finished\n",
      "[Parallel(n_jobs=1)]: Done 1100 out of 1100 | elapsed:  6.9min finished\n",
      "[Parallel(n_jobs=1)]: Done 1100 out of 1100 | elapsed:  6.5min finished\n"
     ]
    }
   ],
   "source": [
    "ensemble.fit(dataProc.X_train, dataProc.y_train)"
   ]
  },
  {
   "cell_type": "code",
   "execution_count": null,
   "metadata": {},
   "outputs": [],
   "source": [
    "y_train_stacking_pred = ensemble.predict(dataProc.X_train)\n",
    "print('Stacking %.3f ' % accuracy_score(dataProc.y_train, y_train_stacking_pred))"
   ]
  },
  {
   "cell_type": "code",
   "execution_count": null,
   "metadata": {},
   "outputs": [],
   "source": [
    "y_test_stacking_pred = ensemble.predict(dataProc.X_test)\n",
    "print('Stacking %.3f ' % accuracy_score(dataProc.y_test, y_test_stacking_pred))"
   ]
  },
  {
   "cell_type": "code",
   "execution_count": null,
   "metadata": {},
   "outputs": [],
   "source": [
    "submitDataProc.AllData[target] = ensemble.predict(submitDataProc.X.reindex(columns=numCols)).astype('int')\n",
    "submitDataProc.AllData[['PassengerId', 'Survived']].to_csv('submit.txt', index=False)"
   ]
  },
  {
   "cell_type": "code",
   "execution_count": null,
   "metadata": {},
   "outputs": [],
   "source": []
  }
 ],
 "metadata": {
  "kernelspec": {
   "display_name": "Python 3",
   "language": "python",
   "name": "python3"
  },
  "language_info": {
   "codemirror_mode": {
    "name": "ipython",
    "version": 3
   },
   "file_extension": ".py",
   "mimetype": "text/x-python",
   "name": "python",
   "nbconvert_exporter": "python",
   "pygments_lexer": "ipython3",
   "version": "3.6.7"
  }
 },
 "nbformat": 4,
 "nbformat_minor": 2
}
